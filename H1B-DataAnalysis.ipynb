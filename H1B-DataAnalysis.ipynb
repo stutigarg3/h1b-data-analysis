{
 "cells": [
  {
   "cell_type": "code",
   "execution_count": 1,
   "id": "69724e84",
   "metadata": {},
   "outputs": [],
   "source": [
    "import pandas as pd\n",
    "import numpy as np\n",
    "import matplotlib.pyplot as plt\n",
    "from sklearn.metrics import confusion_matrix, classification_report"
   ]
  },
  {
   "cell_type": "code",
   "execution_count": 2,
   "id": "e8aa8215",
   "metadata": {},
   "outputs": [
    {
     "name": "stderr",
     "output_type": "stream",
     "text": [
      "/opt/anaconda3/lib/python3.9/site-packages/IPython/core/interactiveshell.py:3444: DtypeWarning: Columns (10) have mixed types.Specify dtype option on import or set low_memory=False.\n",
      "  exec(code_obj, self.user_global_ns, self.user_ns)\n"
     ]
    }
   ],
   "source": [
    "data = pd.read_csv(\"/Users/priyarao/Downloads/flask_app/FinalData_v1.csv\")"
   ]
  },
  {
   "cell_type": "code",
   "execution_count": 3,
   "id": "ce7ecff7",
   "metadata": {},
   "outputs": [
    {
     "data": {
      "text/html": [
       "<div>\n",
       "<style scoped>\n",
       "    .dataframe tbody tr th:only-of-type {\n",
       "        vertical-align: middle;\n",
       "    }\n",
       "\n",
       "    .dataframe tbody tr th {\n",
       "        vertical-align: top;\n",
       "    }\n",
       "\n",
       "    .dataframe thead th {\n",
       "        text-align: right;\n",
       "    }\n",
       "</style>\n",
       "<table border=\"1\" class=\"dataframe\">\n",
       "  <thead>\n",
       "    <tr style=\"text-align: right;\">\n",
       "      <th></th>\n",
       "      <th>Visa_Class</th>\n",
       "      <th>Employer_Name</th>\n",
       "      <th>SOC_Title</th>\n",
       "      <th>Job_Title</th>\n",
       "      <th>Full_Time_Position</th>\n",
       "      <th>Prevailing_Annual_Wage</th>\n",
       "      <th>Employer_Country</th>\n",
       "      <th>Case_Status</th>\n",
       "      <th>Quarter</th>\n",
       "      <th>Year</th>\n",
       "      <th>Work_state</th>\n",
       "      <th>Work_city</th>\n",
       "      <th>Employer_city</th>\n",
       "      <th>Employer_state</th>\n",
       "    </tr>\n",
       "  </thead>\n",
       "  <tbody>\n",
       "    <tr>\n",
       "      <th>0</th>\n",
       "      <td>H-1B</td>\n",
       "      <td>MICROSOFT CORPORATION</td>\n",
       "      <td>Software Developers, Applications</td>\n",
       "      <td>SOFTWARE ENGINEER</td>\n",
       "      <td>Y</td>\n",
       "      <td>112549.0</td>\n",
       "      <td>USA</td>\n",
       "      <td>CERTIFIED</td>\n",
       "      <td>Q1</td>\n",
       "      <td>2017</td>\n",
       "      <td>Washington</td>\n",
       "      <td>Redmond</td>\n",
       "      <td>Redmond</td>\n",
       "      <td>Washington</td>\n",
       "    </tr>\n",
       "    <tr>\n",
       "      <th>1</th>\n",
       "      <td>H-1B</td>\n",
       "      <td>ERNST &amp; YOUNG U.S. LLP</td>\n",
       "      <td>Accountants And Auditors</td>\n",
       "      <td>TAX SENIOR</td>\n",
       "      <td>Y</td>\n",
       "      <td>79976.0</td>\n",
       "      <td>USA</td>\n",
       "      <td>CERTIFIED</td>\n",
       "      <td>Q1</td>\n",
       "      <td>2017</td>\n",
       "      <td>California</td>\n",
       "      <td>Santa Clara</td>\n",
       "      <td>Secaucus</td>\n",
       "      <td>New Jersey</td>\n",
       "    </tr>\n",
       "    <tr>\n",
       "      <th>2</th>\n",
       "      <td>H-1B</td>\n",
       "      <td>LOGIXHUB LLC</td>\n",
       "      <td>Database Administrators</td>\n",
       "      <td>DATABASE ADMINISTRATOR</td>\n",
       "      <td>Y</td>\n",
       "      <td>77792.0</td>\n",
       "      <td>USA</td>\n",
       "      <td>CERTIFIED</td>\n",
       "      <td>Q1</td>\n",
       "      <td>2017</td>\n",
       "      <td>Texas</td>\n",
       "      <td>Irving</td>\n",
       "      <td>Irving</td>\n",
       "      <td>Texas</td>\n",
       "    </tr>\n",
       "    <tr>\n",
       "      <th>3</th>\n",
       "      <td>H-1B</td>\n",
       "      <td>HEXAWARE TECHNOLOGIES, INC.</td>\n",
       "      <td>Software Developers, Applications</td>\n",
       "      <td>SOFTWARE ENGINEER</td>\n",
       "      <td>Y</td>\n",
       "      <td>84406.0</td>\n",
       "      <td>USA</td>\n",
       "      <td>CERTIFIED</td>\n",
       "      <td>Q1</td>\n",
       "      <td>2017</td>\n",
       "      <td>Delaware</td>\n",
       "      <td>New Castle</td>\n",
       "      <td>Iselin</td>\n",
       "      <td>New Jersey</td>\n",
       "    </tr>\n",
       "    <tr>\n",
       "      <th>4</th>\n",
       "      <td>H-1B</td>\n",
       "      <td>ECLOUD LABS,INC.</td>\n",
       "      <td>Software Developers, Applications</td>\n",
       "      <td>MICROSOFT DYNAMICS CRM APPLICATION DEVELOPER</td>\n",
       "      <td>Y</td>\n",
       "      <td>87714.0</td>\n",
       "      <td>USA</td>\n",
       "      <td>CERTIFIED</td>\n",
       "      <td>Q1</td>\n",
       "      <td>2017</td>\n",
       "      <td>Alabama</td>\n",
       "      <td>Birmingham</td>\n",
       "      <td>Iselin</td>\n",
       "      <td>New Jersey</td>\n",
       "    </tr>\n",
       "  </tbody>\n",
       "</table>\n",
       "</div>"
      ],
      "text/plain": [
       "  Visa_Class                Employer_Name                          SOC_Title  \\\n",
       "0       H-1B        MICROSOFT CORPORATION  Software Developers, Applications   \n",
       "1       H-1B       ERNST & YOUNG U.S. LLP           Accountants And Auditors   \n",
       "2       H-1B                 LOGIXHUB LLC            Database Administrators   \n",
       "3       H-1B  HEXAWARE TECHNOLOGIES, INC.  Software Developers, Applications   \n",
       "4       H-1B             ECLOUD LABS,INC.  Software Developers, Applications   \n",
       "\n",
       "                                      Job_Title Full_Time_Position  \\\n",
       "0                             SOFTWARE ENGINEER                  Y   \n",
       "1                                    TAX SENIOR                  Y   \n",
       "2                        DATABASE ADMINISTRATOR                  Y   \n",
       "3                             SOFTWARE ENGINEER                  Y   \n",
       "4  MICROSOFT DYNAMICS CRM APPLICATION DEVELOPER                  Y   \n",
       "\n",
       "   Prevailing_Annual_Wage Employer_Country Case_Status Quarter  Year  \\\n",
       "0                112549.0              USA   CERTIFIED      Q1  2017   \n",
       "1                 79976.0              USA   CERTIFIED      Q1  2017   \n",
       "2                 77792.0              USA   CERTIFIED      Q1  2017   \n",
       "3                 84406.0              USA   CERTIFIED      Q1  2017   \n",
       "4                 87714.0              USA   CERTIFIED      Q1  2017   \n",
       "\n",
       "    Work_state    Work_city Employer_city Employer_state  \n",
       "0   Washington      Redmond       Redmond     Washington  \n",
       "1   California  Santa Clara      Secaucus     New Jersey  \n",
       "2        Texas       Irving        Irving          Texas  \n",
       "3     Delaware   New Castle        Iselin     New Jersey  \n",
       "4      Alabama   Birmingham        Iselin     New Jersey  "
      ]
     },
     "execution_count": 3,
     "metadata": {},
     "output_type": "execute_result"
    }
   ],
   "source": [
    "data.head()"
   ]
  },
  {
   "cell_type": "code",
   "execution_count": 4,
   "id": "e7d1e039",
   "metadata": {},
   "outputs": [],
   "source": [
    "df1 = data.copy()"
   ]
  },
  {
   "cell_type": "code",
   "execution_count": 5,
   "id": "1142e663",
   "metadata": {},
   "outputs": [
    {
     "data": {
      "text/plain": [
       "Visa_Class                     0\n",
       "Employer_Name                  0\n",
       "SOC_Title                      0\n",
       "Job_Title                      0\n",
       "Full_Time_Position             0\n",
       "Prevailing_Annual_Wage         0\n",
       "Employer_Country               0\n",
       "Case_Status                    0\n",
       "Quarter                        0\n",
       "Year                           0\n",
       "Work_state                584987\n",
       "Work_city                     44\n",
       "Employer_city                  9\n",
       "Employer_state              1597\n",
       "dtype: int64"
      ]
     },
     "execution_count": 5,
     "metadata": {},
     "output_type": "execute_result"
    }
   ],
   "source": [
    "df1.isna().sum()"
   ]
  },
  {
   "cell_type": "code",
   "execution_count": 6,
   "id": "d6d3915d",
   "metadata": {},
   "outputs": [
    {
     "data": {
      "text/plain": [
       "(3469308, 14)"
      ]
     },
     "execution_count": 6,
     "metadata": {},
     "output_type": "execute_result"
    }
   ],
   "source": [
    "df1.shape"
   ]
  },
  {
   "cell_type": "code",
   "execution_count": 7,
   "id": "1d6eb231",
   "metadata": {},
   "outputs": [
    {
     "data": {
      "text/plain": [
       "CERTIFIED    3146855\n",
       "WITHDRAWN     290696\n",
       "DENIED         31757\n",
       "Name: Case_Status, dtype: int64"
      ]
     },
     "execution_count": 7,
     "metadata": {},
     "output_type": "execute_result"
    }
   ],
   "source": [
    "df1[\"Case_Status\"].value_counts()"
   ]
  },
  {
   "cell_type": "code",
   "execution_count": 12,
   "id": "bdd28ded",
   "metadata": {},
   "outputs": [],
   "source": [
    "df1[\"Case_Status\"] = df1[\"Case_Status\"].str.upper()"
   ]
  },
  {
   "cell_type": "code",
   "execution_count": 13,
   "id": "4d46cd98",
   "metadata": {},
   "outputs": [],
   "source": [
    "df1[\"Case_Status\"] = df1[\"Case_Status\"].replace(\n",
    "    \"CERTIFIED - WITHDRAWN\", \"CERTIFIED-WITHDRAWN\"\n",
    ")"
   ]
  },
  {
   "cell_type": "code",
   "execution_count": 14,
   "id": "811dcf7d",
   "metadata": {},
   "outputs": [],
   "source": [
    "df1[\"Case_Status\"] = df1[\"Case_Status\"].replace(\"CERTIFIED-WITHDRAWN\", \"WITHDRAWN\")"
   ]
  },
  {
   "cell_type": "code",
   "execution_count": 15,
   "id": "9b645fff",
   "metadata": {},
   "outputs": [],
   "source": [
    "df1[\"Case_Status\"] = df1[\"Case_Status\"].replace(\"WITHDRAWN\", \"DENIED\")"
   ]
  },
  {
   "cell_type": "code",
   "execution_count": 16,
   "id": "5d2145e2",
   "metadata": {},
   "outputs": [
    {
     "data": {
      "text/plain": [
       "USA    3469308\n",
       "Name: Employer_Country, dtype: int64"
      ]
     },
     "execution_count": 16,
     "metadata": {},
     "output_type": "execute_result"
    }
   ],
   "source": [
    "df1[\"Employer_Country\"].value_counts()"
   ]
  },
  {
   "cell_type": "code",
   "execution_count": 17,
   "id": "716a4c50",
   "metadata": {},
   "outputs": [],
   "source": [
    "df1[\"Employer_Country\"] = df1[\"Employer_Country\"].replace(\n",
    "    \"United States Of America\", \"USA\"\n",
    ")"
   ]
  },
  {
   "cell_type": "code",
   "execution_count": 18,
   "id": "39e03abf",
   "metadata": {},
   "outputs": [],
   "source": [
    "df1[\"Employer_Country\"] = df1[\"Employer_Country\"].replace(\n",
    "    \"United States of America\", \"USA\"\n",
    ")"
   ]
  },
  {
   "cell_type": "code",
   "execution_count": 19,
   "id": "59f67aa7",
   "metadata": {},
   "outputs": [],
   "source": [
    "indexAge = df1[(df1[\"Employer_Country\"] != \"USA\")].index\n",
    "df1.drop(indexAge, inplace=True)"
   ]
  },
  {
   "cell_type": "code",
   "execution_count": 21,
   "metadata": {},
   "outputs": [
    {
     "data": {
      "text/html": [
       "<div>\n",
       "<style scoped>\n",
       "    .dataframe tbody tr th:only-of-type {\n",
       "        vertical-align: middle;\n",
       "    }\n",
       "\n",
       "    .dataframe tbody tr th {\n",
       "        vertical-align: top;\n",
       "    }\n",
       "\n",
       "    .dataframe thead th {\n",
       "        text-align: right;\n",
       "    }\n",
       "</style>\n",
       "<table border=\"1\" class=\"dataframe\">\n",
       "  <thead>\n",
       "    <tr style=\"text-align: right;\">\n",
       "      <th></th>\n",
       "      <th>Visa_Class</th>\n",
       "      <th>Employer_Name</th>\n",
       "      <th>SOC_Title</th>\n",
       "      <th>Job_Title</th>\n",
       "      <th>Full_Time_Position</th>\n",
       "      <th>Prevailing_Annual_Wage</th>\n",
       "      <th>Employer_Country</th>\n",
       "      <th>Case_Status</th>\n",
       "      <th>Quarter</th>\n",
       "      <th>Year</th>\n",
       "      <th>Work_state</th>\n",
       "      <th>Work_city</th>\n",
       "      <th>Employer_city</th>\n",
       "      <th>Employer_state</th>\n",
       "    </tr>\n",
       "  </thead>\n",
       "  <tbody>\n",
       "    <tr>\n",
       "      <th>0</th>\n",
       "      <td>H-1B</td>\n",
       "      <td>MICROSOFT CORPORATION</td>\n",
       "      <td>Software Developers, Applications</td>\n",
       "      <td>SOFTWARE ENGINEER</td>\n",
       "      <td>Y</td>\n",
       "      <td>112549.0</td>\n",
       "      <td>USA</td>\n",
       "      <td>CERTIFIED</td>\n",
       "      <td>Q1</td>\n",
       "      <td>2017</td>\n",
       "      <td>Washington</td>\n",
       "      <td>Redmond</td>\n",
       "      <td>Redmond</td>\n",
       "      <td>Washington</td>\n",
       "    </tr>\n",
       "    <tr>\n",
       "      <th>1</th>\n",
       "      <td>H-1B</td>\n",
       "      <td>ERNST &amp; YOUNG U.S. LLP</td>\n",
       "      <td>Accountants And Auditors</td>\n",
       "      <td>TAX SENIOR</td>\n",
       "      <td>Y</td>\n",
       "      <td>79976.0</td>\n",
       "      <td>USA</td>\n",
       "      <td>CERTIFIED</td>\n",
       "      <td>Q1</td>\n",
       "      <td>2017</td>\n",
       "      <td>California</td>\n",
       "      <td>Santa Clara</td>\n",
       "      <td>Secaucus</td>\n",
       "      <td>New Jersey</td>\n",
       "    </tr>\n",
       "    <tr>\n",
       "      <th>2</th>\n",
       "      <td>H-1B</td>\n",
       "      <td>LOGIXHUB LLC</td>\n",
       "      <td>Database Administrators</td>\n",
       "      <td>DATABASE ADMINISTRATOR</td>\n",
       "      <td>Y</td>\n",
       "      <td>77792.0</td>\n",
       "      <td>USA</td>\n",
       "      <td>CERTIFIED</td>\n",
       "      <td>Q1</td>\n",
       "      <td>2017</td>\n",
       "      <td>Texas</td>\n",
       "      <td>Irving</td>\n",
       "      <td>Irving</td>\n",
       "      <td>Texas</td>\n",
       "    </tr>\n",
       "    <tr>\n",
       "      <th>3</th>\n",
       "      <td>H-1B</td>\n",
       "      <td>HEXAWARE TECHNOLOGIES, INC.</td>\n",
       "      <td>Software Developers, Applications</td>\n",
       "      <td>SOFTWARE ENGINEER</td>\n",
       "      <td>Y</td>\n",
       "      <td>84406.0</td>\n",
       "      <td>USA</td>\n",
       "      <td>CERTIFIED</td>\n",
       "      <td>Q1</td>\n",
       "      <td>2017</td>\n",
       "      <td>Delaware</td>\n",
       "      <td>New Castle</td>\n",
       "      <td>Iselin</td>\n",
       "      <td>New Jersey</td>\n",
       "    </tr>\n",
       "    <tr>\n",
       "      <th>4</th>\n",
       "      <td>H-1B</td>\n",
       "      <td>ECLOUD LABS,INC.</td>\n",
       "      <td>Software Developers, Applications</td>\n",
       "      <td>MICROSOFT DYNAMICS CRM APPLICATION DEVELOPER</td>\n",
       "      <td>Y</td>\n",
       "      <td>87714.0</td>\n",
       "      <td>USA</td>\n",
       "      <td>CERTIFIED</td>\n",
       "      <td>Q1</td>\n",
       "      <td>2017</td>\n",
       "      <td>Alabama</td>\n",
       "      <td>Birmingham</td>\n",
       "      <td>Iselin</td>\n",
       "      <td>New Jersey</td>\n",
       "    </tr>\n",
       "    <tr>\n",
       "      <th>...</th>\n",
       "      <td>...</td>\n",
       "      <td>...</td>\n",
       "      <td>...</td>\n",
       "      <td>...</td>\n",
       "      <td>...</td>\n",
       "      <td>...</td>\n",
       "      <td>...</td>\n",
       "      <td>...</td>\n",
       "      <td>...</td>\n",
       "      <td>...</td>\n",
       "      <td>...</td>\n",
       "      <td>...</td>\n",
       "      <td>...</td>\n",
       "      <td>...</td>\n",
       "    </tr>\n",
       "    <tr>\n",
       "      <th>3469303</th>\n",
       "      <td>H-1B</td>\n",
       "      <td>FAST SWITCH LTD</td>\n",
       "      <td>Software Developers, Applications</td>\n",
       "      <td>SENIOR JAVA DEVELOPER</td>\n",
       "      <td>Y</td>\n",
       "      <td>106905.6</td>\n",
       "      <td>USA</td>\n",
       "      <td>DENIED</td>\n",
       "      <td>Q3</td>\n",
       "      <td>2022</td>\n",
       "      <td>Ohio</td>\n",
       "      <td>Dublin</td>\n",
       "      <td>Dublin</td>\n",
       "      <td>Ohio</td>\n",
       "    </tr>\n",
       "    <tr>\n",
       "      <th>3469304</th>\n",
       "      <td>H-1B</td>\n",
       "      <td>MASSACHUSETTS INSTITUTE OF TECHNOLOGY</td>\n",
       "      <td>Physicists</td>\n",
       "      <td>POSTDOCTORAL ASSOCIATE</td>\n",
       "      <td>Y</td>\n",
       "      <td>50398.0</td>\n",
       "      <td>USA</td>\n",
       "      <td>CERTIFIED</td>\n",
       "      <td>Q3</td>\n",
       "      <td>2022</td>\n",
       "      <td>Massachusetts</td>\n",
       "      <td>Cambridge</td>\n",
       "      <td>Cambridge</td>\n",
       "      <td>Massachusetts</td>\n",
       "    </tr>\n",
       "    <tr>\n",
       "      <th>3469305</th>\n",
       "      <td>H-1B</td>\n",
       "      <td>MASSACHUSETTS INSTITUTE OF TECHNOLOGY</td>\n",
       "      <td>Geoscientists, Except Hydrologists And Geograp...</td>\n",
       "      <td>RESEARCH SCIENTIST</td>\n",
       "      <td>Y</td>\n",
       "      <td>61069.0</td>\n",
       "      <td>USA</td>\n",
       "      <td>CERTIFIED</td>\n",
       "      <td>Q3</td>\n",
       "      <td>2022</td>\n",
       "      <td>Massachusetts</td>\n",
       "      <td>Cambridge</td>\n",
       "      <td>Cambridge</td>\n",
       "      <td>Massachusetts</td>\n",
       "    </tr>\n",
       "    <tr>\n",
       "      <th>3469306</th>\n",
       "      <td>H-1B</td>\n",
       "      <td>MASSACHUSETTS INSTITUTE OF TECHNOLOGY</td>\n",
       "      <td>Materials Engineers</td>\n",
       "      <td>POSTDOCTORAL ASSOCIATE</td>\n",
       "      <td>Y</td>\n",
       "      <td>41392.0</td>\n",
       "      <td>USA</td>\n",
       "      <td>CERTIFIED</td>\n",
       "      <td>Q3</td>\n",
       "      <td>2022</td>\n",
       "      <td>Massachusetts</td>\n",
       "      <td>Cambridge</td>\n",
       "      <td>Cambridge</td>\n",
       "      <td>Massachusetts</td>\n",
       "    </tr>\n",
       "    <tr>\n",
       "      <th>3469307</th>\n",
       "      <td>H-1B</td>\n",
       "      <td>PARK VIEW TRAVEL BEVERLY HILLS, LLC</td>\n",
       "      <td>Meeting, Convention, And Event Planners</td>\n",
       "      <td>EVENTS AND INCENTIVES COORDINATOR</td>\n",
       "      <td>Y</td>\n",
       "      <td>45198.0</td>\n",
       "      <td>USA</td>\n",
       "      <td>CERTIFIED</td>\n",
       "      <td>Q3</td>\n",
       "      <td>2022</td>\n",
       "      <td>California</td>\n",
       "      <td>Beverly Hills</td>\n",
       "      <td>Beverly Hills</td>\n",
       "      <td>California</td>\n",
       "    </tr>\n",
       "  </tbody>\n",
       "</table>\n",
       "<p>3469308 rows × 14 columns</p>\n",
       "</div>"
      ],
      "text/plain": [
       "        Visa_Class                          Employer_Name  \\\n",
       "0             H-1B                  MICROSOFT CORPORATION   \n",
       "1             H-1B                 ERNST & YOUNG U.S. LLP   \n",
       "2             H-1B                           LOGIXHUB LLC   \n",
       "3             H-1B            HEXAWARE TECHNOLOGIES, INC.   \n",
       "4             H-1B                       ECLOUD LABS,INC.   \n",
       "...            ...                                    ...   \n",
       "3469303       H-1B                        FAST SWITCH LTD   \n",
       "3469304       H-1B  MASSACHUSETTS INSTITUTE OF TECHNOLOGY   \n",
       "3469305       H-1B  MASSACHUSETTS INSTITUTE OF TECHNOLOGY   \n",
       "3469306       H-1B  MASSACHUSETTS INSTITUTE OF TECHNOLOGY   \n",
       "3469307       H-1B    PARK VIEW TRAVEL BEVERLY HILLS, LLC   \n",
       "\n",
       "                                                 SOC_Title  \\\n",
       "0                        Software Developers, Applications   \n",
       "1                                 Accountants And Auditors   \n",
       "2                                  Database Administrators   \n",
       "3                        Software Developers, Applications   \n",
       "4                        Software Developers, Applications   \n",
       "...                                                    ...   \n",
       "3469303                  Software Developers, Applications   \n",
       "3469304                                         Physicists   \n",
       "3469305  Geoscientists, Except Hydrologists And Geograp...   \n",
       "3469306                                Materials Engineers   \n",
       "3469307            Meeting, Convention, And Event Planners   \n",
       "\n",
       "                                            Job_Title Full_Time_Position  \\\n",
       "0                                   SOFTWARE ENGINEER                  Y   \n",
       "1                                          TAX SENIOR                  Y   \n",
       "2                              DATABASE ADMINISTRATOR                  Y   \n",
       "3                                   SOFTWARE ENGINEER                  Y   \n",
       "4        MICROSOFT DYNAMICS CRM APPLICATION DEVELOPER                  Y   \n",
       "...                                               ...                ...   \n",
       "3469303                         SENIOR JAVA DEVELOPER                  Y   \n",
       "3469304                        POSTDOCTORAL ASSOCIATE                  Y   \n",
       "3469305                            RESEARCH SCIENTIST                  Y   \n",
       "3469306                        POSTDOCTORAL ASSOCIATE                  Y   \n",
       "3469307             EVENTS AND INCENTIVES COORDINATOR                  Y   \n",
       "\n",
       "         Prevailing_Annual_Wage Employer_Country Case_Status Quarter  Year  \\\n",
       "0                      112549.0              USA   CERTIFIED      Q1  2017   \n",
       "1                       79976.0              USA   CERTIFIED      Q1  2017   \n",
       "2                       77792.0              USA   CERTIFIED      Q1  2017   \n",
       "3                       84406.0              USA   CERTIFIED      Q1  2017   \n",
       "4                       87714.0              USA   CERTIFIED      Q1  2017   \n",
       "...                         ...              ...         ...     ...   ...   \n",
       "3469303                106905.6              USA      DENIED      Q3  2022   \n",
       "3469304                 50398.0              USA   CERTIFIED      Q3  2022   \n",
       "3469305                 61069.0              USA   CERTIFIED      Q3  2022   \n",
       "3469306                 41392.0              USA   CERTIFIED      Q3  2022   \n",
       "3469307                 45198.0              USA   CERTIFIED      Q3  2022   \n",
       "\n",
       "             Work_state      Work_city  Employer_city  Employer_state  \n",
       "0            Washington        Redmond        Redmond      Washington  \n",
       "1            California    Santa Clara       Secaucus      New Jersey  \n",
       "2                 Texas         Irving         Irving           Texas  \n",
       "3              Delaware     New Castle         Iselin      New Jersey  \n",
       "4               Alabama     Birmingham         Iselin      New Jersey  \n",
       "...                 ...            ...            ...             ...  \n",
       "3469303            Ohio         Dublin         Dublin            Ohio  \n",
       "3469304   Massachusetts      Cambridge      Cambridge   Massachusetts  \n",
       "3469305   Massachusetts      Cambridge      Cambridge   Massachusetts  \n",
       "3469306   Massachusetts      Cambridge      Cambridge   Massachusetts  \n",
       "3469307      California  Beverly Hills  Beverly Hills      California  \n",
       "\n",
       "[3469308 rows x 14 columns]"
      ]
     },
     "execution_count": 21,
     "metadata": {},
     "output_type": "execute_result"
    }
   ],
   "source": [
    "df1"
   ]
  },
  {
   "cell_type": "code",
   "execution_count": 22,
   "id": "00c5777d",
   "metadata": {},
   "outputs": [],
   "source": [
    "# df1[\"Work_state\"] = df1[\"Worksite\"].str.split(\",\").str[1]"
   ]
  },
  {
   "cell_type": "code",
   "execution_count": 23,
   "id": "45ea8257",
   "metadata": {},
   "outputs": [],
   "source": [
    "# df1['Work_city'] = df1['Worksite'].str.split(',').str[0]"
   ]
  },
  {
   "cell_type": "code",
   "execution_count": 24,
   "id": "4d27e9e7",
   "metadata": {},
   "outputs": [
    {
     "data": {
      "text/html": [
       "<div>\n",
       "<style scoped>\n",
       "    .dataframe tbody tr th:only-of-type {\n",
       "        vertical-align: middle;\n",
       "    }\n",
       "\n",
       "    .dataframe tbody tr th {\n",
       "        vertical-align: top;\n",
       "    }\n",
       "\n",
       "    .dataframe thead th {\n",
       "        text-align: right;\n",
       "    }\n",
       "</style>\n",
       "<table border=\"1\" class=\"dataframe\">\n",
       "  <thead>\n",
       "    <tr style=\"text-align: right;\">\n",
       "      <th></th>\n",
       "      <th>Visa_Class</th>\n",
       "      <th>Employer_Name</th>\n",
       "      <th>SOC_Title</th>\n",
       "      <th>Job_Title</th>\n",
       "      <th>Full_Time_Position</th>\n",
       "      <th>Prevailing_Annual_Wage</th>\n",
       "      <th>Employer_Country</th>\n",
       "      <th>Case_Status</th>\n",
       "      <th>Quarter</th>\n",
       "      <th>Year</th>\n",
       "      <th>Work_state</th>\n",
       "      <th>Work_city</th>\n",
       "      <th>Employer_city</th>\n",
       "      <th>Employer_state</th>\n",
       "    </tr>\n",
       "  </thead>\n",
       "  <tbody>\n",
       "    <tr>\n",
       "      <th>0</th>\n",
       "      <td>H-1B</td>\n",
       "      <td>MICROSOFT CORPORATION</td>\n",
       "      <td>Software Developers, Applications</td>\n",
       "      <td>SOFTWARE ENGINEER</td>\n",
       "      <td>Y</td>\n",
       "      <td>112549.0</td>\n",
       "      <td>USA</td>\n",
       "      <td>CERTIFIED</td>\n",
       "      <td>Q1</td>\n",
       "      <td>2017</td>\n",
       "      <td>Washington</td>\n",
       "      <td>Redmond</td>\n",
       "      <td>Redmond</td>\n",
       "      <td>Washington</td>\n",
       "    </tr>\n",
       "    <tr>\n",
       "      <th>1</th>\n",
       "      <td>H-1B</td>\n",
       "      <td>ERNST &amp; YOUNG U.S. LLP</td>\n",
       "      <td>Accountants And Auditors</td>\n",
       "      <td>TAX SENIOR</td>\n",
       "      <td>Y</td>\n",
       "      <td>79976.0</td>\n",
       "      <td>USA</td>\n",
       "      <td>CERTIFIED</td>\n",
       "      <td>Q1</td>\n",
       "      <td>2017</td>\n",
       "      <td>California</td>\n",
       "      <td>Santa Clara</td>\n",
       "      <td>Secaucus</td>\n",
       "      <td>New Jersey</td>\n",
       "    </tr>\n",
       "    <tr>\n",
       "      <th>2</th>\n",
       "      <td>H-1B</td>\n",
       "      <td>LOGIXHUB LLC</td>\n",
       "      <td>Database Administrators</td>\n",
       "      <td>DATABASE ADMINISTRATOR</td>\n",
       "      <td>Y</td>\n",
       "      <td>77792.0</td>\n",
       "      <td>USA</td>\n",
       "      <td>CERTIFIED</td>\n",
       "      <td>Q1</td>\n",
       "      <td>2017</td>\n",
       "      <td>Texas</td>\n",
       "      <td>Irving</td>\n",
       "      <td>Irving</td>\n",
       "      <td>Texas</td>\n",
       "    </tr>\n",
       "    <tr>\n",
       "      <th>3</th>\n",
       "      <td>H-1B</td>\n",
       "      <td>HEXAWARE TECHNOLOGIES, INC.</td>\n",
       "      <td>Software Developers, Applications</td>\n",
       "      <td>SOFTWARE ENGINEER</td>\n",
       "      <td>Y</td>\n",
       "      <td>84406.0</td>\n",
       "      <td>USA</td>\n",
       "      <td>CERTIFIED</td>\n",
       "      <td>Q1</td>\n",
       "      <td>2017</td>\n",
       "      <td>Delaware</td>\n",
       "      <td>New Castle</td>\n",
       "      <td>Iselin</td>\n",
       "      <td>New Jersey</td>\n",
       "    </tr>\n",
       "    <tr>\n",
       "      <th>4</th>\n",
       "      <td>H-1B</td>\n",
       "      <td>ECLOUD LABS,INC.</td>\n",
       "      <td>Software Developers, Applications</td>\n",
       "      <td>MICROSOFT DYNAMICS CRM APPLICATION DEVELOPER</td>\n",
       "      <td>Y</td>\n",
       "      <td>87714.0</td>\n",
       "      <td>USA</td>\n",
       "      <td>CERTIFIED</td>\n",
       "      <td>Q1</td>\n",
       "      <td>2017</td>\n",
       "      <td>Alabama</td>\n",
       "      <td>Birmingham</td>\n",
       "      <td>Iselin</td>\n",
       "      <td>New Jersey</td>\n",
       "    </tr>\n",
       "  </tbody>\n",
       "</table>\n",
       "</div>"
      ],
      "text/plain": [
       "  Visa_Class                Employer_Name                          SOC_Title  \\\n",
       "0       H-1B        MICROSOFT CORPORATION  Software Developers, Applications   \n",
       "1       H-1B       ERNST & YOUNG U.S. LLP           Accountants And Auditors   \n",
       "2       H-1B                 LOGIXHUB LLC            Database Administrators   \n",
       "3       H-1B  HEXAWARE TECHNOLOGIES, INC.  Software Developers, Applications   \n",
       "4       H-1B             ECLOUD LABS,INC.  Software Developers, Applications   \n",
       "\n",
       "                                      Job_Title Full_Time_Position  \\\n",
       "0                             SOFTWARE ENGINEER                  Y   \n",
       "1                                    TAX SENIOR                  Y   \n",
       "2                        DATABASE ADMINISTRATOR                  Y   \n",
       "3                             SOFTWARE ENGINEER                  Y   \n",
       "4  MICROSOFT DYNAMICS CRM APPLICATION DEVELOPER                  Y   \n",
       "\n",
       "   Prevailing_Annual_Wage Employer_Country Case_Status Quarter  Year  \\\n",
       "0                112549.0              USA   CERTIFIED      Q1  2017   \n",
       "1                 79976.0              USA   CERTIFIED      Q1  2017   \n",
       "2                 77792.0              USA   CERTIFIED      Q1  2017   \n",
       "3                 84406.0              USA   CERTIFIED      Q1  2017   \n",
       "4                 87714.0              USA   CERTIFIED      Q1  2017   \n",
       "\n",
       "    Work_state    Work_city Employer_city Employer_state  \n",
       "0   Washington      Redmond       Redmond     Washington  \n",
       "1   California  Santa Clara      Secaucus     New Jersey  \n",
       "2        Texas       Irving        Irving          Texas  \n",
       "3     Delaware   New Castle        Iselin     New Jersey  \n",
       "4      Alabama   Birmingham        Iselin     New Jersey  "
      ]
     },
     "execution_count": 24,
     "metadata": {},
     "output_type": "execute_result"
    }
   ],
   "source": [
    "df1.head()"
   ]
  },
  {
   "cell_type": "code",
   "execution_count": 11,
   "id": "b23ce860",
   "metadata": {},
   "outputs": [],
   "source": [
    "#df1 = df1.drop(['Worksite'],axis =1)"
   ]
  },
  {
   "cell_type": "code",
   "execution_count": 25,
   "id": "1645f86d",
   "metadata": {},
   "outputs": [
    {
     "data": {
      "text/plain": [
       "Visa_Class                     0\n",
       "Employer_Name                  0\n",
       "SOC_Title                      0\n",
       "Job_Title                      0\n",
       "Full_Time_Position             0\n",
       "Prevailing_Annual_Wage         0\n",
       "Employer_Country               0\n",
       "Case_Status                    0\n",
       "Quarter                        0\n",
       "Year                           0\n",
       "Work_state                584987\n",
       "Work_city                     44\n",
       "Employer_city                  9\n",
       "Employer_state              1597\n",
       "dtype: int64"
      ]
     },
     "execution_count": 25,
     "metadata": {},
     "output_type": "execute_result"
    }
   ],
   "source": [
    "df1.isna().sum()"
   ]
  },
  {
   "cell_type": "code",
   "execution_count": 26,
   "id": "e4e6fbe0",
   "metadata": {},
   "outputs": [],
   "source": [
    "df1 = df1.dropna(subset=[\"Work_state\"])"
   ]
  },
  {
   "cell_type": "code",
   "execution_count": 27,
   "id": "925793ad",
   "metadata": {},
   "outputs": [
    {
     "data": {
      "text/plain": [
       "(2884321, 14)"
      ]
     },
     "execution_count": 27,
     "metadata": {},
     "output_type": "execute_result"
    }
   ],
   "source": [
    "df1.shape"
   ]
  },
  {
   "cell_type": "code",
   "execution_count": 28,
   "id": "4dfdcdc2",
   "metadata": {},
   "outputs": [
    {
     "data": {
      "text/html": [
       "<div>\n",
       "<style scoped>\n",
       "    .dataframe tbody tr th:only-of-type {\n",
       "        vertical-align: middle;\n",
       "    }\n",
       "\n",
       "    .dataframe tbody tr th {\n",
       "        vertical-align: top;\n",
       "    }\n",
       "\n",
       "    .dataframe thead th {\n",
       "        text-align: right;\n",
       "    }\n",
       "</style>\n",
       "<table border=\"1\" class=\"dataframe\">\n",
       "  <thead>\n",
       "    <tr style=\"text-align: right;\">\n",
       "      <th></th>\n",
       "      <th>Visa_Class</th>\n",
       "      <th>Employer_Name</th>\n",
       "      <th>SOC_Title</th>\n",
       "      <th>Job_Title</th>\n",
       "      <th>Full_Time_Position</th>\n",
       "      <th>Prevailing_Annual_Wage</th>\n",
       "      <th>Employer_Country</th>\n",
       "      <th>Case_Status</th>\n",
       "      <th>Quarter</th>\n",
       "      <th>Year</th>\n",
       "      <th>Work_state</th>\n",
       "      <th>Work_city</th>\n",
       "      <th>Employer_city</th>\n",
       "      <th>Employer_state</th>\n",
       "    </tr>\n",
       "  </thead>\n",
       "  <tbody>\n",
       "    <tr>\n",
       "      <th>0</th>\n",
       "      <td>H-1B</td>\n",
       "      <td>MICROSOFT CORPORATION</td>\n",
       "      <td>Software Developers, Applications</td>\n",
       "      <td>SOFTWARE ENGINEER</td>\n",
       "      <td>Y</td>\n",
       "      <td>112549.0</td>\n",
       "      <td>USA</td>\n",
       "      <td>CERTIFIED</td>\n",
       "      <td>Q1</td>\n",
       "      <td>2017</td>\n",
       "      <td>Washington</td>\n",
       "      <td>Redmond</td>\n",
       "      <td>Redmond</td>\n",
       "      <td>Washington</td>\n",
       "    </tr>\n",
       "    <tr>\n",
       "      <th>1</th>\n",
       "      <td>H-1B</td>\n",
       "      <td>ERNST &amp; YOUNG U.S. LLP</td>\n",
       "      <td>Accountants And Auditors</td>\n",
       "      <td>TAX SENIOR</td>\n",
       "      <td>Y</td>\n",
       "      <td>79976.0</td>\n",
       "      <td>USA</td>\n",
       "      <td>CERTIFIED</td>\n",
       "      <td>Q1</td>\n",
       "      <td>2017</td>\n",
       "      <td>California</td>\n",
       "      <td>Santa Clara</td>\n",
       "      <td>Secaucus</td>\n",
       "      <td>New Jersey</td>\n",
       "    </tr>\n",
       "    <tr>\n",
       "      <th>2</th>\n",
       "      <td>H-1B</td>\n",
       "      <td>LOGIXHUB LLC</td>\n",
       "      <td>Database Administrators</td>\n",
       "      <td>DATABASE ADMINISTRATOR</td>\n",
       "      <td>Y</td>\n",
       "      <td>77792.0</td>\n",
       "      <td>USA</td>\n",
       "      <td>CERTIFIED</td>\n",
       "      <td>Q1</td>\n",
       "      <td>2017</td>\n",
       "      <td>Texas</td>\n",
       "      <td>Irving</td>\n",
       "      <td>Irving</td>\n",
       "      <td>Texas</td>\n",
       "    </tr>\n",
       "    <tr>\n",
       "      <th>3</th>\n",
       "      <td>H-1B</td>\n",
       "      <td>HEXAWARE TECHNOLOGIES, INC.</td>\n",
       "      <td>Software Developers, Applications</td>\n",
       "      <td>SOFTWARE ENGINEER</td>\n",
       "      <td>Y</td>\n",
       "      <td>84406.0</td>\n",
       "      <td>USA</td>\n",
       "      <td>CERTIFIED</td>\n",
       "      <td>Q1</td>\n",
       "      <td>2017</td>\n",
       "      <td>Delaware</td>\n",
       "      <td>New Castle</td>\n",
       "      <td>Iselin</td>\n",
       "      <td>New Jersey</td>\n",
       "    </tr>\n",
       "    <tr>\n",
       "      <th>4</th>\n",
       "      <td>H-1B</td>\n",
       "      <td>ECLOUD LABS,INC.</td>\n",
       "      <td>Software Developers, Applications</td>\n",
       "      <td>MICROSOFT DYNAMICS CRM APPLICATION DEVELOPER</td>\n",
       "      <td>Y</td>\n",
       "      <td>87714.0</td>\n",
       "      <td>USA</td>\n",
       "      <td>CERTIFIED</td>\n",
       "      <td>Q1</td>\n",
       "      <td>2017</td>\n",
       "      <td>Alabama</td>\n",
       "      <td>Birmingham</td>\n",
       "      <td>Iselin</td>\n",
       "      <td>New Jersey</td>\n",
       "    </tr>\n",
       "  </tbody>\n",
       "</table>\n",
       "</div>"
      ],
      "text/plain": [
       "  Visa_Class                Employer_Name                          SOC_Title  \\\n",
       "0       H-1B        MICROSOFT CORPORATION  Software Developers, Applications   \n",
       "1       H-1B       ERNST & YOUNG U.S. LLP           Accountants And Auditors   \n",
       "2       H-1B                 LOGIXHUB LLC            Database Administrators   \n",
       "3       H-1B  HEXAWARE TECHNOLOGIES, INC.  Software Developers, Applications   \n",
       "4       H-1B             ECLOUD LABS,INC.  Software Developers, Applications   \n",
       "\n",
       "                                      Job_Title Full_Time_Position  \\\n",
       "0                             SOFTWARE ENGINEER                  Y   \n",
       "1                                    TAX SENIOR                  Y   \n",
       "2                        DATABASE ADMINISTRATOR                  Y   \n",
       "3                             SOFTWARE ENGINEER                  Y   \n",
       "4  MICROSOFT DYNAMICS CRM APPLICATION DEVELOPER                  Y   \n",
       "\n",
       "   Prevailing_Annual_Wage Employer_Country Case_Status Quarter  Year  \\\n",
       "0                112549.0              USA   CERTIFIED      Q1  2017   \n",
       "1                 79976.0              USA   CERTIFIED      Q1  2017   \n",
       "2                 77792.0              USA   CERTIFIED      Q1  2017   \n",
       "3                 84406.0              USA   CERTIFIED      Q1  2017   \n",
       "4                 87714.0              USA   CERTIFIED      Q1  2017   \n",
       "\n",
       "    Work_state    Work_city Employer_city Employer_state  \n",
       "0   Washington      Redmond       Redmond     Washington  \n",
       "1   California  Santa Clara      Secaucus     New Jersey  \n",
       "2        Texas       Irving        Irving          Texas  \n",
       "3     Delaware   New Castle        Iselin     New Jersey  \n",
       "4      Alabama   Birmingham        Iselin     New Jersey  "
      ]
     },
     "execution_count": 28,
     "metadata": {},
     "output_type": "execute_result"
    }
   ],
   "source": [
    "df1.head()"
   ]
  },
  {
   "cell_type": "code",
   "execution_count": 24,
   "id": "2107ade0",
   "metadata": {},
   "outputs": [],
   "source": [
    "#df1['Employer_city'] = df1['Employer_Location'].str.split(',').str[0]"
   ]
  },
  {
   "cell_type": "code",
   "execution_count": 25,
   "id": "919e1e75",
   "metadata": {},
   "outputs": [],
   "source": [
    "#df1['Employer_state'] = df1['Employer_Location'].str.split(',').str[1]"
   ]
  },
  {
   "cell_type": "code",
   "execution_count": 26,
   "id": "e2818b00",
   "metadata": {},
   "outputs": [],
   "source": [
    "#df1 = df1.drop(['Employer_Location'],axis =1)"
   ]
  },
  {
   "cell_type": "code",
   "execution_count": 29,
   "id": "86123a2c",
   "metadata": {},
   "outputs": [
    {
     "data": {
      "text/plain": [
       "Visa_Class                   0\n",
       "Employer_Name                0\n",
       "SOC_Title                    0\n",
       "Job_Title                    0\n",
       "Full_Time_Position           0\n",
       "Prevailing_Annual_Wage       0\n",
       "Employer_Country             0\n",
       "Case_Status                  0\n",
       "Quarter                      0\n",
       "Year                         0\n",
       "Work_state                   0\n",
       "Work_city                   44\n",
       "Employer_city                9\n",
       "Employer_state            1146\n",
       "dtype: int64"
      ]
     },
     "execution_count": 29,
     "metadata": {},
     "output_type": "execute_result"
    }
   ],
   "source": [
    "df1.isna().sum()"
   ]
  },
  {
   "cell_type": "code",
   "execution_count": 30,
   "id": "bc211a4a",
   "metadata": {},
   "outputs": [],
   "source": [
    "df1 = df1.dropna(subset=[\"Employer_city\"])"
   ]
  },
  {
   "cell_type": "code",
   "execution_count": 31,
   "id": "91826ade",
   "metadata": {},
   "outputs": [],
   "source": [
    "df1[\"Work_city\"] = df1[\"Work_city\"].str.upper()"
   ]
  },
  {
   "cell_type": "code",
   "execution_count": 32,
   "id": "668f246e",
   "metadata": {},
   "outputs": [],
   "source": [
    "df1[\"Work_state\"] = df1[\"Work_state\"].str.upper()"
   ]
  },
  {
   "cell_type": "code",
   "execution_count": 33,
   "id": "7154a8b9",
   "metadata": {},
   "outputs": [],
   "source": [
    "df1[\"Employer_city\"] = df1[\"Employer_city\"].str.upper()"
   ]
  },
  {
   "cell_type": "code",
   "execution_count": 34,
   "id": "5917b06e",
   "metadata": {},
   "outputs": [],
   "source": [
    "df1[\"Employer_state\"] = df1[\"Employer_state\"].str.upper()"
   ]
  },
  {
   "cell_type": "code",
   "execution_count": 35,
   "id": "a2cc0876",
   "metadata": {},
   "outputs": [
    {
     "data": {
      "text/plain": [
       "H-1B               2812391\n",
       "E-3 Australian       59680\n",
       "H-1B1 Singapore       6265\n",
       "H-1B1 Chile           5976\n",
       "Name: Visa_Class, dtype: int64"
      ]
     },
     "execution_count": 35,
     "metadata": {},
     "output_type": "execute_result"
    }
   ],
   "source": [
    "df1[\"Visa_Class\"].value_counts()"
   ]
  },
  {
   "cell_type": "code",
   "execution_count": 36,
   "id": "038dbeff",
   "metadata": {},
   "outputs": [],
   "source": [
    "df1 = df1.drop(df1[(df1[\"Visa_Class\"] == \"E-3 Australian\")].index)"
   ]
  },
  {
   "cell_type": "code",
   "execution_count": 37,
   "id": "a71d1b32",
   "metadata": {},
   "outputs": [],
   "source": [
    "df1 = df1.drop(df1[(df1[\"Visa_Class\"] == \"H-1B1 Singapore\")].index)"
   ]
  },
  {
   "cell_type": "code",
   "execution_count": 38,
   "id": "6f8c90b7",
   "metadata": {},
   "outputs": [],
   "source": [
    "df1 = df1.drop(df1[(df1[\"Visa_Class\"] == \"H-1B1 Chile\")].index)"
   ]
  },
  {
   "cell_type": "code",
   "execution_count": 39,
   "id": "5fe4afbc",
   "metadata": {},
   "outputs": [
    {
     "data": {
      "text/plain": [
       "SOFTWARE ENGINEER              137962\n",
       "SOFTWARE DEVELOPER             112243\n",
       "PROGRAMMER ANALYST              67140\n",
       "SENIOR SOFTWARE ENGINEER        38139\n",
       "SENIOR SYSTEMS ANALYST JC60     26913\n",
       "ASSISTANT PROFESSOR             23560\n",
       "SYSTEMS ANALYST                 21617\n",
       "MANAGER JC50                    20146\n",
       "BUSINESS ANALYST                18435\n",
       "DEVELOPER                       18063\n",
       "ANALYST                         15552\n",
       "CONSULTANT                      14473\n",
       "SENIOR SOFTWARE DEVELOPER       14324\n",
       "ASSOCIATE                       14293\n",
       "SENIOR CONSULTANT               13310\n",
       "PROJECT MANAGER                 13086\n",
       "JAVA DEVELOPER                  13058\n",
       "COMPUTER SYSTEMS ANALYST        12835\n",
       "COMPUTER PROGRAMMER             12403\n",
       "ARCHITECT                       11897\n",
       "Name: Job_Title, dtype: int64"
      ]
     },
     "execution_count": 39,
     "metadata": {},
     "output_type": "execute_result"
    }
   ],
   "source": [
    "df1[\"Job_Title\"].value_counts().head(20)"
   ]
  },
  {
   "cell_type": "code",
   "execution_count": 40,
   "id": "fcf18d00",
   "metadata": {},
   "outputs": [],
   "source": [
    "df1[\"Job_Title\"] = df1[\"Job_Title\"].str.upper()"
   ]
  },
  {
   "cell_type": "code",
   "execution_count": 41,
   "id": "0e881128",
   "metadata": {},
   "outputs": [],
   "source": [
    "numState = [\n",
    "    \"Alabama\",\n",
    "    \"Alaska\",\n",
    "    \"Arizona\",\n",
    "    \"Arkansas\",\n",
    "    \"California\",\n",
    "    \"Colorado\",\n",
    "    \"Connecticut\",\n",
    "    \"Delaware\",\n",
    "    \"Florida\",\n",
    "    \"Georgia\",\n",
    "    \"Hawaii\",\n",
    "    \"Idaho\",\n",
    "    \"Illinois\",\n",
    "    \"Indiana\",\n",
    "    \"Iowa\",\n",
    "    \"Kansas\",\n",
    "    \"Kentucky\",\n",
    "    \"Louisiana\",\n",
    "    \"Maine\",\n",
    "    \"Maryland\",\n",
    "    \"Massachusetts\",\n",
    "    \"Michigan\",\n",
    "    \"Minnesota\",\n",
    "    \"Mississippi\",\n",
    "    \"Missouri\",\n",
    "    \"Montana\",\n",
    "    \"Nebraska\",\n",
    "    \"Nevada\",\n",
    "    \"New Hampshire\",\n",
    "    \"New Jersey\",\n",
    "    \"New Mexico\",\n",
    "    \"New York\",\n",
    "    \"North Carolina\",\n",
    "    \"North Dakota\",\n",
    "    \"Ohio\",\n",
    "    \"Oklahoma\",\n",
    "    \"Oregon\",\n",
    "    \"Pennsylvania\",\n",
    "    \"Rhode Island\",\n",
    "    \"South Carolina\",\n",
    "    \"South Dakota\",\n",
    "    \"Tennessee\",\n",
    "    \"Texas\",\n",
    "    \"Utah\",\n",
    "    \"Vermont\",\n",
    "    \"Virginia\",\n",
    "    \"Washington\",\n",
    "    \"West Virginia\",\n",
    "    \"Wisconsin\",\n",
    "    \"Wyoming\",\n",
    "]"
   ]
  },
  {
   "cell_type": "code",
   "execution_count": 42,
   "id": "58498eb1",
   "metadata": {},
   "outputs": [],
   "source": [
    "numStateUpper = [x.upper() for x in numState]"
   ]
  },
  {
   "cell_type": "code",
   "execution_count": 43,
   "id": "86ee1420",
   "metadata": {},
   "outputs": [
    {
     "data": {
      "text/plain": [
       "['ALABAMA',\n",
       " 'ALASKA',\n",
       " 'ARIZONA',\n",
       " 'ARKANSAS',\n",
       " 'CALIFORNIA',\n",
       " 'COLORADO',\n",
       " 'CONNECTICUT',\n",
       " 'DELAWARE',\n",
       " 'FLORIDA',\n",
       " 'GEORGIA',\n",
       " 'HAWAII',\n",
       " 'IDAHO',\n",
       " 'ILLINOIS',\n",
       " 'INDIANA',\n",
       " 'IOWA',\n",
       " 'KANSAS',\n",
       " 'KENTUCKY',\n",
       " 'LOUISIANA',\n",
       " 'MAINE',\n",
       " 'MARYLAND',\n",
       " 'MASSACHUSETTS',\n",
       " 'MICHIGAN',\n",
       " 'MINNESOTA',\n",
       " 'MISSISSIPPI',\n",
       " 'MISSOURI',\n",
       " 'MONTANA',\n",
       " 'NEBRASKA',\n",
       " 'NEVADA',\n",
       " 'NEW HAMPSHIRE',\n",
       " 'NEW JERSEY',\n",
       " 'NEW MEXICO',\n",
       " 'NEW YORK',\n",
       " 'NORTH CAROLINA',\n",
       " 'NORTH DAKOTA',\n",
       " 'OHIO',\n",
       " 'OKLAHOMA',\n",
       " 'OREGON',\n",
       " 'PENNSYLVANIA',\n",
       " 'RHODE ISLAND',\n",
       " 'SOUTH CAROLINA',\n",
       " 'SOUTH DAKOTA',\n",
       " 'TENNESSEE',\n",
       " 'TEXAS',\n",
       " 'UTAH',\n",
       " 'VERMONT',\n",
       " 'VIRGINIA',\n",
       " 'WASHINGTON',\n",
       " 'WEST VIRGINIA',\n",
       " 'WISCONSIN',\n",
       " 'WYOMING']"
      ]
     },
     "execution_count": 43,
     "metadata": {},
     "output_type": "execute_result"
    }
   ],
   "source": [
    "numStateUpper"
   ]
  },
  {
   "cell_type": "code",
   "execution_count": 44,
   "id": "af0223bd",
   "metadata": {},
   "outputs": [],
   "source": [
    "df1[\"Work_state\"] = df1[\"Work_state\"].str.lstrip()"
   ]
  },
  {
   "cell_type": "code",
   "execution_count": 45,
   "id": "e53886e2",
   "metadata": {},
   "outputs": [],
   "source": [
    "df1 = df1.loc[df1[\"Work_state\"].isin(numStateUpper)].reset_index(drop=True)"
   ]
  },
  {
   "cell_type": "code",
   "execution_count": 46,
   "id": "5f2cadb2",
   "metadata": {},
   "outputs": [
    {
     "data": {
      "text/plain": [
       "array(['WASHINGTON', 'CALIFORNIA', 'TEXAS', 'DELAWARE', 'ALABAMA',\n",
       "       'FLORIDA', 'MARYLAND', 'GEORGIA', 'PENNSYLVANIA', 'NEW YORK',\n",
       "       'MINNESOTA', 'NEW MEXICO', 'MICHIGAN', 'MASSACHUSETTS', 'ARIZONA',\n",
       "       'NEW JERSEY', 'ILLINOIS', 'INDIANA', 'NORTH CAROLINA', 'OHIO',\n",
       "       'MISSOURI', 'NEW HAMPSHIRE', 'ARKANSAS', 'VIRGINIA', 'KANSAS',\n",
       "       'COLORADO', 'CONNECTICUT', 'WISCONSIN', 'WEST VIRGINIA', 'ALASKA',\n",
       "       'LOUISIANA', 'KENTUCKY', 'TENNESSEE', 'IDAHO', 'SOUTH CAROLINA',\n",
       "       'RHODE ISLAND', 'OREGON', 'NEVADA', 'UTAH', 'NORTH DAKOTA',\n",
       "       'MISSISSIPPI', 'OKLAHOMA', 'HAWAII', 'SOUTH DAKOTA', 'NEBRASKA',\n",
       "       'MAINE', 'IOWA', 'WYOMING', 'MONTANA', 'VERMONT'], dtype=object)"
      ]
     },
     "execution_count": 46,
     "metadata": {},
     "output_type": "execute_result"
    }
   ],
   "source": [
    "df1[\"Work_state\"].unique()"
   ]
  },
  {
   "cell_type": "code",
   "execution_count": 47,
   "id": "a5c2ce0b",
   "metadata": {},
   "outputs": [
    {
     "data": {
      "text/plain": [
       "(2789751, 14)"
      ]
     },
     "execution_count": 47,
     "metadata": {},
     "output_type": "execute_result"
    }
   ],
   "source": [
    "df1.shape"
   ]
  },
  {
   "cell_type": "code",
   "execution_count": 48,
   "id": "ba38a1c1",
   "metadata": {},
   "outputs": [],
   "source": [
    "df1[\"Employer_state\"] = df1[\"Employer_state\"].str.lstrip()"
   ]
  },
  {
   "cell_type": "code",
   "execution_count": 49,
   "id": "9a223c65",
   "metadata": {},
   "outputs": [],
   "source": [
    "df1 = df1.loc[df1[\"Employer_state\"].isin(numStateUpper)].reset_index(drop=True)"
   ]
  },
  {
   "cell_type": "code",
   "execution_count": 50,
   "id": "14847e24",
   "metadata": {},
   "outputs": [
    {
     "data": {
      "text/plain": [
       "array(['WASHINGTON', 'NEW JERSEY', 'TEXAS', 'MASSACHUSETTS', 'FLORIDA',\n",
       "       'CALIFORNIA', 'SOUTH CAROLINA', 'MARYLAND', 'MICHIGAN', 'ARIZONA',\n",
       "       'TENNESSEE', 'NEW YORK', 'OHIO', 'PENNSYLVANIA', 'NORTH CAROLINA',\n",
       "       'MISSOURI', 'CONNECTICUT', 'NEW HAMPSHIRE', 'ILLINOIS',\n",
       "       'MINNESOTA', 'VIRGINIA', 'KANSAS', 'COLORADO', 'GEORGIA',\n",
       "       'WISCONSIN', 'INDIANA', 'WEST VIRGINIA', 'ALASKA', 'KENTUCKY',\n",
       "       'IDAHO', 'LOUISIANA', 'NORTH DAKOTA', 'NEVADA', 'RHODE ISLAND',\n",
       "       'DELAWARE', 'NEW MEXICO', 'ARKANSAS', 'HAWAII', 'SOUTH DAKOTA',\n",
       "       'OREGON', 'NEBRASKA', 'MAINE', 'IOWA', 'ALABAMA', 'UTAH',\n",
       "       'MISSISSIPPI', 'OKLAHOMA', 'VERMONT', 'MONTANA', 'WYOMING'],\n",
       "      dtype=object)"
      ]
     },
     "execution_count": 50,
     "metadata": {},
     "output_type": "execute_result"
    }
   ],
   "source": [
    "df1[\"Employer_state\"].unique()"
   ]
  },
  {
   "cell_type": "code",
   "execution_count": 51,
   "id": "a825ea80",
   "metadata": {},
   "outputs": [
    {
     "data": {
      "text/plain": [
       "<AxesSubplot:title={'center':'CASE STATUS vs NUMBER OF PETITIONS'}, xlabel='CASE STATUS', ylabel='NUMBER OF PETITIONS'>"
      ]
     },
     "execution_count": 51,
     "metadata": {},
     "output_type": "execute_result"
    },
    {
     "data": {
      "image/png": "[encoded data removed]",
      "text/plain": [
       "<Figure size 432x288 with 1 Axes>"
      ]
     },
     "metadata": {
      "needs_background": "light"
     },
     "output_type": "display_data"
    }
   ],
   "source": [
    "plot_status_number = (\n",
    "    df1[\"Case_Status\"]\n",
    "    .value_counts()\n",
    "    .plot(title=\"CASE STATUS vs NUMBER OF PETITIONS\", kind=\"bar\", color=\"blue\")\n",
    ")\n",
    "plot_status_number.set_xlabel(\"CASE STATUS\")\n",
    "plot_status_number.set_ylabel(\"NUMBER OF PETITIONS\")\n",
    "for p in plot_status_number.patches:\n",
    "    plot_status_number.annotate(\n",
    "        str(p.get_height()), (p.get_x() * 1.0050, p.get_height() * 1.005)\n",
    "    )\n",
    "plot_status_number"
   ]
  },
  {
   "cell_type": "code",
   "execution_count": 52,
   "id": "50d3f70d",
   "metadata": {},
   "outputs": [
    {
     "name": "stdout",
     "output_type": "stream",
     "text": [
      "COGNIZANT TECHNOLOGY SOLUTIONS US CORP    64892\n",
      "INFOSYS LIMITED                           51343\n",
      "TATA CONSULTANCY SERVICES LIMITED         47153\n",
      "DELOITTE CONSULTING LLP                   29037\n",
      "CAPGEMINI AMERICA INC                     26515\n",
      "Google LLC                                23778\n",
      "Microsoft Corporation                     21330\n",
      "Ernst & Young U.S. LLP                    20671\n",
      "WIPRO LIMITED                             18757\n",
      "AMAZON.COM SERVICES LLC                   14993\n",
      "IBM INDIA PRIVATE LIMITED                 14392\n",
      "HCL AMERICA, INC.                         14290\n",
      "ACCENTURE LLP                             14109\n",
      "ERNST & YOUNG U.S. LLP                    14004\n",
      "TECH MAHINDRA (AMERICAS),INC.             13605\n",
      "Name: Employer_Name, dtype: int64\n"
     ]
    },
    {
     "data": {
      "image/png": "[encoded data removed]",
      "text/plain": [
       "<Figure size 504x360 with 1 Axes>"
      ]
     },
     "metadata": {
      "needs_background": "light"
     },
     "output_type": "display_data"
    }
   ],
   "source": [
    "plot_status_topemp = (\n",
    "    df1[\"Employer_Name\"]\n",
    "    .value_counts()\n",
    "    .head(15)\n",
    "    .plot.bar(\n",
    "        title=\"Top 15 employers filing the petitions\", color=\"green\", figsize=(7, 5)\n",
    "    )\n",
    ")\n",
    "plot_status_topemp.set_ylabel(\"NAME OF THE EMPLOYER\")\n",
    "plot_status_topemp.set_xlabel(\"NUMBER OF PETITIONS\")\n",
    "plot_status_topemp\n",
    "print(df1[\"Employer_Name\"].value_counts().head(15))"
   ]
  },
  {
   "cell_type": "code",
   "execution_count": 53,
   "id": "00ad0c24",
   "metadata": {},
   "outputs": [
    {
     "name": "stdout",
     "output_type": "stream",
     "text": [
      "Software Developers, Applications                   827188\n",
      "Computer Systems Analysts                           258282\n",
      "Computer Occupations, All Other                     141004\n",
      "Software Developers, Systems Software               137914\n",
      "Computer Programmers                                121417\n",
      "Operations Research Analysts                         48835\n",
      "Computer Systems Engineers/Architects                48668\n",
      "Mechanical Engineers                                 48257\n",
      "Management Analysts                                  44022\n",
      "Computer And Information Systems Managers            43761\n",
      "Database Administrators                              41573\n",
      "Financial Analysts                                   40044\n",
      "Software Quality Assurance Engineers And Testers     39000\n",
      "Accountants And Auditors                             38123\n",
      "Computer Systems Analyst                             36852\n",
      "Name: SOC_Title, dtype: int64\n"
     ]
    },
    {
     "data": {
      "image/png": "[encoded data removed]",
      "text/plain": [
       "<Figure size 504x360 with 1 Axes>"
      ]
     },
     "metadata": {
      "needs_background": "light"
     },
     "output_type": "display_data"
    }
   ],
   "source": [
    "plot_status_topsoc = (\n",
    "    df1[\"SOC_Title\"]\n",
    "    .value_counts()\n",
    "    .head(15)\n",
    "    .plot.bar(title=\"Top 15 in demand positions SOCs\", color=\"brown\", figsize=(7, 5))\n",
    ")\n",
    "plot_status_topsoc.set_ylabel(\"SOC NAME\")\n",
    "plot_status_topsoc.set_xlabel(\"NUMBER OF PETITIONS\")\n",
    "plot_status_topsoc\n",
    "print(df1[\"SOC_Title\"].value_counts().head(15))"
   ]
  },
  {
   "cell_type": "code",
   "execution_count": 54,
   "id": "4d99786e",
   "metadata": {},
   "outputs": [
    {
     "data": {
      "image/png": "[encoded data removed]",
      "text/plain": [
       "<Figure size 432x288 with 1 Axes>"
      ]
     },
     "metadata": {
      "needs_background": "light"
     },
     "output_type": "display_data"
    },
    {
     "data": {
      "text/html": [
       "<div>\n",
       "<style scoped>\n",
       "    .dataframe tbody tr th:only-of-type {\n",
       "        vertical-align: middle;\n",
       "    }\n",
       "\n",
       "    .dataframe tbody tr th {\n",
       "        vertical-align: top;\n",
       "    }\n",
       "\n",
       "    .dataframe thead tr th {\n",
       "        text-align: left;\n",
       "    }\n",
       "\n",
       "    .dataframe thead tr:last-of-type th {\n",
       "        text-align: right;\n",
       "    }\n",
       "</style>\n",
       "<table border=\"1\" class=\"dataframe\">\n",
       "  <thead>\n",
       "    <tr>\n",
       "      <th></th>\n",
       "      <th>Prevailing_Annual_Wage</th>\n",
       "    </tr>\n",
       "    <tr>\n",
       "      <th></th>\n",
       "      <th>median</th>\n",
       "    </tr>\n",
       "    <tr>\n",
       "      <th>Year</th>\n",
       "      <th></th>\n",
       "    </tr>\n",
       "  </thead>\n",
       "  <tbody>\n",
       "    <tr>\n",
       "      <th>2017</th>\n",
       "      <td>83366.0</td>\n",
       "    </tr>\n",
       "    <tr>\n",
       "      <th>2018</th>\n",
       "      <td>87485.0</td>\n",
       "    </tr>\n",
       "    <tr>\n",
       "      <th>2019</th>\n",
       "      <td>96720.0</td>\n",
       "    </tr>\n",
       "    <tr>\n",
       "      <th>2020</th>\n",
       "      <td>92498.0</td>\n",
       "    </tr>\n",
       "    <tr>\n",
       "      <th>2021</th>\n",
       "      <td>78957.0</td>\n",
       "    </tr>\n",
       "    <tr>\n",
       "      <th>2022</th>\n",
       "      <td>79477.0</td>\n",
       "    </tr>\n",
       "  </tbody>\n",
       "</table>\n",
       "</div>"
      ],
      "text/plain": [
       "     Prevailing_Annual_Wage\n",
       "                     median\n",
       "Year                       \n",
       "2017                83366.0\n",
       "2018                87485.0\n",
       "2019                96720.0\n",
       "2020                92498.0\n",
       "2021                78957.0\n",
       "2022                79477.0"
      ]
     },
     "execution_count": 54,
     "metadata": {},
     "output_type": "execute_result"
    }
   ],
   "source": [
    "dfsalaries_trends_year = (\n",
    "    df1.loc[:, [\"Prevailing_Annual_Wage\", \"Year\"]].groupby([\"Year\"]).agg([\"median\"])\n",
    ")\n",
    "\n",
    "plot_salaries_trends_year = dfsalaries_trends_year.plot(\n",
    "    kind=\"bar\", color=\"g\", legend=None\n",
    ")\n",
    "plot_salaries_trends_year.set_xlabel(\"FILING YEAR\")\n",
    "plot_salaries_trends_year.set_ylabel(\"MEDIAN WAGE\")\n",
    "plt.show()\n",
    "dfsalaries_trends_year"
   ]
  },
  {
   "cell_type": "markdown",
   "id": "47ee9686",
   "metadata": {},
   "source": [
    "DOWNSAMPLING"
   ]
  },
  {
   "cell_type": "code",
   "execution_count": 52,
   "id": "65c06e76",
   "metadata": {},
   "outputs": [],
   "source": [
    "#table_temp_2_Dx = df1[df1['Case_Status'] == 'DENIED']\n"
   ]
  },
  {
   "cell_type": "code",
   "execution_count": 53,
   "id": "d9486f25",
   "metadata": {},
   "outputs": [],
   "source": [
    "#table_temp_2_Cx = df1[df1['Case_Status'] == 'CERTIFIED']"
   ]
  },
  {
   "cell_type": "code",
   "execution_count": 54,
   "id": "3ace8d96",
   "metadata": {},
   "outputs": [],
   "source": [
    "#from sklearn.model_selection import train_test_split"
   ]
  },
  {
   "cell_type": "code",
   "execution_count": 55,
   "id": "7be71678",
   "metadata": {},
   "outputs": [],
   "source": [
    "#Input_Certified, Input_Certified_extra, y_certified, y_certified_extra = train_test_split(df1[df1.Case_Status == 'CERTIFIED'],\\\n",
    "#                                                                                          table_temp_2_Cx.Case_Status, train_size= 0.35, random_state=1)\n"
   ]
  },
  {
   "cell_type": "code",
   "execution_count": 47,
   "id": "3caba3e0",
   "metadata": {},
   "outputs": [
    {
     "data": {
      "text/html": [
       "<div>\n",
       "<style scoped>\n",
       "    .dataframe tbody tr th:only-of-type {\n",
       "        vertical-align: middle;\n",
       "    }\n",
       "\n",
       "    .dataframe tbody tr th {\n",
       "        vertical-align: top;\n",
       "    }\n",
       "\n",
       "    .dataframe thead th {\n",
       "        text-align: right;\n",
       "    }\n",
       "</style>\n",
       "<table border=\"1\" class=\"dataframe\">\n",
       "  <thead>\n",
       "    <tr style=\"text-align: right;\">\n",
       "      <th></th>\n",
       "      <th>Visa_Class</th>\n",
       "      <th>Employer_Name</th>\n",
       "      <th>SOC_Title</th>\n",
       "      <th>Job_Title</th>\n",
       "      <th>Full_Time_Position</th>\n",
       "      <th>Prevailing_Annual_Wage</th>\n",
       "      <th>Employer_Country</th>\n",
       "      <th>Case_Status</th>\n",
       "      <th>Quarter</th>\n",
       "      <th>Year</th>\n",
       "      <th>Work_state</th>\n",
       "      <th>Work_city</th>\n",
       "      <th>Employer_city</th>\n",
       "      <th>Employer_state</th>\n",
       "    </tr>\n",
       "  </thead>\n",
       "  <tbody>\n",
       "    <tr>\n",
       "      <th>0</th>\n",
       "      <td>H-1B</td>\n",
       "      <td>MICROSOFT CORPORATION</td>\n",
       "      <td>Software Developers, Applications</td>\n",
       "      <td>SOFTWARE ENGINEER</td>\n",
       "      <td>Y</td>\n",
       "      <td>112549.0</td>\n",
       "      <td>USA</td>\n",
       "      <td>CERTIFIED</td>\n",
       "      <td>Q1</td>\n",
       "      <td>2017</td>\n",
       "      <td>WASHINGTON</td>\n",
       "      <td>REDMOND</td>\n",
       "      <td>REDMOND</td>\n",
       "      <td>WASHINGTON</td>\n",
       "    </tr>\n",
       "    <tr>\n",
       "      <th>1</th>\n",
       "      <td>H-1B</td>\n",
       "      <td>ERNST &amp; YOUNG U.S. LLP</td>\n",
       "      <td>Accountants And Auditors</td>\n",
       "      <td>TAX SENIOR</td>\n",
       "      <td>Y</td>\n",
       "      <td>79976.0</td>\n",
       "      <td>USA</td>\n",
       "      <td>CERTIFIED</td>\n",
       "      <td>Q1</td>\n",
       "      <td>2017</td>\n",
       "      <td>CALIFORNIA</td>\n",
       "      <td>SANTA CLARA</td>\n",
       "      <td>SECAUCUS</td>\n",
       "      <td>NEW JERSEY</td>\n",
       "    </tr>\n",
       "    <tr>\n",
       "      <th>2</th>\n",
       "      <td>H-1B</td>\n",
       "      <td>LOGIXHUB LLC</td>\n",
       "      <td>Database Administrators</td>\n",
       "      <td>DATABASE ADMINISTRATOR</td>\n",
       "      <td>Y</td>\n",
       "      <td>77792.0</td>\n",
       "      <td>USA</td>\n",
       "      <td>CERTIFIED</td>\n",
       "      <td>Q1</td>\n",
       "      <td>2017</td>\n",
       "      <td>TEXAS</td>\n",
       "      <td>IRVING</td>\n",
       "      <td>IRVING</td>\n",
       "      <td>TEXAS</td>\n",
       "    </tr>\n",
       "    <tr>\n",
       "      <th>3</th>\n",
       "      <td>H-1B</td>\n",
       "      <td>HEXAWARE TECHNOLOGIES, INC.</td>\n",
       "      <td>Software Developers, Applications</td>\n",
       "      <td>SOFTWARE ENGINEER</td>\n",
       "      <td>Y</td>\n",
       "      <td>84406.0</td>\n",
       "      <td>USA</td>\n",
       "      <td>CERTIFIED</td>\n",
       "      <td>Q1</td>\n",
       "      <td>2017</td>\n",
       "      <td>DELAWARE</td>\n",
       "      <td>NEW CASTLE</td>\n",
       "      <td>ISELIN</td>\n",
       "      <td>NEW JERSEY</td>\n",
       "    </tr>\n",
       "    <tr>\n",
       "      <th>4</th>\n",
       "      <td>H-1B</td>\n",
       "      <td>ECLOUD LABS,INC.</td>\n",
       "      <td>Software Developers, Applications</td>\n",
       "      <td>MICROSOFT DYNAMICS CRM APPLICATION DEVELOPER</td>\n",
       "      <td>Y</td>\n",
       "      <td>87714.0</td>\n",
       "      <td>USA</td>\n",
       "      <td>CERTIFIED</td>\n",
       "      <td>Q1</td>\n",
       "      <td>2017</td>\n",
       "      <td>ALABAMA</td>\n",
       "      <td>BIRMINGHAM</td>\n",
       "      <td>ISELIN</td>\n",
       "      <td>NEW JERSEY</td>\n",
       "    </tr>\n",
       "  </tbody>\n",
       "</table>\n",
       "</div>"
      ],
      "text/plain": [
       "  Visa_Class                Employer_Name                          SOC_Title  \\\n",
       "0       H-1B        MICROSOFT CORPORATION  Software Developers, Applications   \n",
       "1       H-1B       ERNST & YOUNG U.S. LLP           Accountants And Auditors   \n",
       "2       H-1B                 LOGIXHUB LLC            Database Administrators   \n",
       "3       H-1B  HEXAWARE TECHNOLOGIES, INC.  Software Developers, Applications   \n",
       "4       H-1B             ECLOUD LABS,INC.  Software Developers, Applications   \n",
       "\n",
       "                                      Job_Title Full_Time_Position  \\\n",
       "0                             SOFTWARE ENGINEER                  Y   \n",
       "1                                    TAX SENIOR                  Y   \n",
       "2                        DATABASE ADMINISTRATOR                  Y   \n",
       "3                             SOFTWARE ENGINEER                  Y   \n",
       "4  MICROSOFT DYNAMICS CRM APPLICATION DEVELOPER                  Y   \n",
       "\n",
       "   Prevailing_Annual_Wage Employer_Country Case_Status Quarter  Year  \\\n",
       "0                112549.0              USA   CERTIFIED      Q1  2017   \n",
       "1                 79976.0              USA   CERTIFIED      Q1  2017   \n",
       "2                 77792.0              USA   CERTIFIED      Q1  2017   \n",
       "3                 84406.0              USA   CERTIFIED      Q1  2017   \n",
       "4                 87714.0              USA   CERTIFIED      Q1  2017   \n",
       "\n",
       "   Work_state    Work_city Employer_city Employer_state  \n",
       "0  WASHINGTON      REDMOND       REDMOND     WASHINGTON  \n",
       "1  CALIFORNIA  SANTA CLARA      SECAUCUS     NEW JERSEY  \n",
       "2       TEXAS       IRVING        IRVING          TEXAS  \n",
       "3    DELAWARE   NEW CASTLE        ISELIN     NEW JERSEY  \n",
       "4     ALABAMA   BIRMINGHAM        ISELIN     NEW JERSEY  "
      ]
     },
     "execution_count": 47,
     "metadata": {},
     "output_type": "execute_result"
    }
   ],
   "source": [
    "df1.head()"
   ]
  },
  {
   "cell_type": "code",
   "execution_count": 160,
   "id": "a63cd89b",
   "metadata": {},
   "outputs": [],
   "source": [
    "#y = df1[df1.columns[df1.columns.isin(['Case_Status'])]]\n",
    "#X = df1[df1.columns[~df1.columns.isin(['Case_Status'])]]\n"
   ]
  },
  {
   "cell_type": "code",
   "execution_count": 216,
   "id": "f27839b0",
   "metadata": {},
   "outputs": [],
   "source": [
    "#from imblearn.over_sampling import SMOTE\n",
    "#from collections import Counter\n",
    "#sm = SMOTE(random_state=42)\n",
    "#X1,y1 = sm.fit_resample(X,y)"
   ]
  },
  {
   "cell_type": "code",
   "execution_count": 331,
   "id": "2f9a34d8",
   "metadata": {},
   "outputs": [],
   "source": [
    "#training_dataframe = Input_Certified.append(table_temp_2_Dx)"
   ]
  },
  {
   "cell_type": "markdown",
   "id": "837065af",
   "metadata": {},
   "source": [
    "ONE HOT ENCODING"
   ]
  },
  {
   "cell_type": "code",
   "execution_count": 44,
   "id": "f1c9695f",
   "metadata": {},
   "outputs": [
    {
     "data": {
      "text/html": [
       "<div>\n",
       "<style scoped>\n",
       "    .dataframe tbody tr th:only-of-type {\n",
       "        vertical-align: middle;\n",
       "    }\n",
       "\n",
       "    .dataframe tbody tr th {\n",
       "        vertical-align: top;\n",
       "    }\n",
       "\n",
       "    .dataframe thead th {\n",
       "        text-align: right;\n",
       "    }\n",
       "</style>\n",
       "<table border=\"1\" class=\"dataframe\">\n",
       "  <thead>\n",
       "    <tr style=\"text-align: right;\">\n",
       "      <th></th>\n",
       "      <th>Visa_Class</th>\n",
       "      <th>Employer_Name</th>\n",
       "      <th>SOC_Title</th>\n",
       "      <th>Job_Title</th>\n",
       "      <th>Full_Time_Position</th>\n",
       "      <th>Prevailing_Annual_Wage</th>\n",
       "      <th>Employer_Country</th>\n",
       "      <th>Case_Status</th>\n",
       "      <th>Quarter</th>\n",
       "      <th>Year</th>\n",
       "      <th>Work_state</th>\n",
       "      <th>Work_city</th>\n",
       "      <th>Employer_city</th>\n",
       "      <th>Employer_state</th>\n",
       "    </tr>\n",
       "  </thead>\n",
       "  <tbody>\n",
       "    <tr>\n",
       "      <th>0</th>\n",
       "      <td>H-1B</td>\n",
       "      <td>MICROSOFT CORPORATION</td>\n",
       "      <td>Software Developers, Applications</td>\n",
       "      <td>SOFTWARE ENGINEER</td>\n",
       "      <td>Y</td>\n",
       "      <td>112549.0</td>\n",
       "      <td>USA</td>\n",
       "      <td>CERTIFIED</td>\n",
       "      <td>Q1</td>\n",
       "      <td>2017</td>\n",
       "      <td>WASHINGTON</td>\n",
       "      <td>REDMOND</td>\n",
       "      <td>REDMOND</td>\n",
       "      <td>WASHINGTON</td>\n",
       "    </tr>\n",
       "    <tr>\n",
       "      <th>1</th>\n",
       "      <td>H-1B</td>\n",
       "      <td>ERNST &amp; YOUNG U.S. LLP</td>\n",
       "      <td>Accountants And Auditors</td>\n",
       "      <td>TAX SENIOR</td>\n",
       "      <td>Y</td>\n",
       "      <td>79976.0</td>\n",
       "      <td>USA</td>\n",
       "      <td>CERTIFIED</td>\n",
       "      <td>Q1</td>\n",
       "      <td>2017</td>\n",
       "      <td>CALIFORNIA</td>\n",
       "      <td>SANTA CLARA</td>\n",
       "      <td>SECAUCUS</td>\n",
       "      <td>NEW JERSEY</td>\n",
       "    </tr>\n",
       "    <tr>\n",
       "      <th>2</th>\n",
       "      <td>H-1B</td>\n",
       "      <td>LOGIXHUB LLC</td>\n",
       "      <td>Database Administrators</td>\n",
       "      <td>DATABASE ADMINISTRATOR</td>\n",
       "      <td>Y</td>\n",
       "      <td>77792.0</td>\n",
       "      <td>USA</td>\n",
       "      <td>CERTIFIED</td>\n",
       "      <td>Q1</td>\n",
       "      <td>2017</td>\n",
       "      <td>TEXAS</td>\n",
       "      <td>IRVING</td>\n",
       "      <td>IRVING</td>\n",
       "      <td>TEXAS</td>\n",
       "    </tr>\n",
       "    <tr>\n",
       "      <th>3</th>\n",
       "      <td>H-1B</td>\n",
       "      <td>HEXAWARE TECHNOLOGIES, INC.</td>\n",
       "      <td>Software Developers, Applications</td>\n",
       "      <td>SOFTWARE ENGINEER</td>\n",
       "      <td>Y</td>\n",
       "      <td>84406.0</td>\n",
       "      <td>USA</td>\n",
       "      <td>CERTIFIED</td>\n",
       "      <td>Q1</td>\n",
       "      <td>2017</td>\n",
       "      <td>DELAWARE</td>\n",
       "      <td>NEW CASTLE</td>\n",
       "      <td>ISELIN</td>\n",
       "      <td>NEW JERSEY</td>\n",
       "    </tr>\n",
       "    <tr>\n",
       "      <th>4</th>\n",
       "      <td>H-1B</td>\n",
       "      <td>ECLOUD LABS,INC.</td>\n",
       "      <td>Software Developers, Applications</td>\n",
       "      <td>MICROSOFT DYNAMICS CRM APPLICATION DEVELOPER</td>\n",
       "      <td>Y</td>\n",
       "      <td>87714.0</td>\n",
       "      <td>USA</td>\n",
       "      <td>CERTIFIED</td>\n",
       "      <td>Q1</td>\n",
       "      <td>2017</td>\n",
       "      <td>ALABAMA</td>\n",
       "      <td>BIRMINGHAM</td>\n",
       "      <td>ISELIN</td>\n",
       "      <td>NEW JERSEY</td>\n",
       "    </tr>\n",
       "  </tbody>\n",
       "</table>\n",
       "</div>"
      ],
      "text/plain": [
       "  Visa_Class                Employer_Name                          SOC_Title  \\\n",
       "0       H-1B        MICROSOFT CORPORATION  Software Developers, Applications   \n",
       "1       H-1B       ERNST & YOUNG U.S. LLP           Accountants And Auditors   \n",
       "2       H-1B                 LOGIXHUB LLC            Database Administrators   \n",
       "3       H-1B  HEXAWARE TECHNOLOGIES, INC.  Software Developers, Applications   \n",
       "4       H-1B             ECLOUD LABS,INC.  Software Developers, Applications   \n",
       "\n",
       "                                      Job_Title Full_Time_Position  \\\n",
       "0                             SOFTWARE ENGINEER                  Y   \n",
       "1                                    TAX SENIOR                  Y   \n",
       "2                        DATABASE ADMINISTRATOR                  Y   \n",
       "3                             SOFTWARE ENGINEER                  Y   \n",
       "4  MICROSOFT DYNAMICS CRM APPLICATION DEVELOPER                  Y   \n",
       "\n",
       "   Prevailing_Annual_Wage Employer_Country Case_Status Quarter  Year  \\\n",
       "0                112549.0              USA   CERTIFIED      Q1  2017   \n",
       "1                 79976.0              USA   CERTIFIED      Q1  2017   \n",
       "2                 77792.0              USA   CERTIFIED      Q1  2017   \n",
       "3                 84406.0              USA   CERTIFIED      Q1  2017   \n",
       "4                 87714.0              USA   CERTIFIED      Q1  2017   \n",
       "\n",
       "   Work_state    Work_city Employer_city Employer_state  \n",
       "0  WASHINGTON      REDMOND       REDMOND     WASHINGTON  \n",
       "1  CALIFORNIA  SANTA CLARA      SECAUCUS     NEW JERSEY  \n",
       "2       TEXAS       IRVING        IRVING          TEXAS  \n",
       "3    DELAWARE   NEW CASTLE        ISELIN     NEW JERSEY  \n",
       "4     ALABAMA   BIRMINGHAM        ISELIN     NEW JERSEY  "
      ]
     },
     "execution_count": 44,
     "metadata": {},
     "output_type": "execute_result"
    }
   ],
   "source": [
    "df1.head()"
   ]
  },
  {
   "cell_type": "code",
   "execution_count": 45,
   "id": "a31b7af1",
   "metadata": {},
   "outputs": [],
   "source": [
    "\n",
    "#df2 = training_dataframe.copy()\n",
    "df2 = df1.copy()"
   ]
  },
  {
   "cell_type": "code",
   "execution_count": 46,
   "id": "e05f7719",
   "metadata": {},
   "outputs": [],
   "source": [
    "df2['Case_Status_en'] = df2['Case_Status'].map(dict(CERTIFIED=1, DENIED=0))"
   ]
  },
  {
   "cell_type": "code",
   "execution_count": 43,
   "id": "7824223a",
   "metadata": {},
   "outputs": [],
   "source": [
    "#df2 = df2.drop('Case_Status', axis=1)"
   ]
  },
  {
   "cell_type": "code",
   "execution_count": 47,
   "id": "806a7625",
   "metadata": {},
   "outputs": [
    {
     "data": {
      "text/html": [
       "<div>\n",
       "<style scoped>\n",
       "    .dataframe tbody tr th:only-of-type {\n",
       "        vertical-align: middle;\n",
       "    }\n",
       "\n",
       "    .dataframe tbody tr th {\n",
       "        vertical-align: top;\n",
       "    }\n",
       "\n",
       "    .dataframe thead th {\n",
       "        text-align: right;\n",
       "    }\n",
       "</style>\n",
       "<table border=\"1\" class=\"dataframe\">\n",
       "  <thead>\n",
       "    <tr style=\"text-align: right;\">\n",
       "      <th></th>\n",
       "      <th>Visa_Class</th>\n",
       "      <th>Employer_Name</th>\n",
       "      <th>SOC_Title</th>\n",
       "      <th>Job_Title</th>\n",
       "      <th>Full_Time_Position</th>\n",
       "      <th>Prevailing_Annual_Wage</th>\n",
       "      <th>Employer_Country</th>\n",
       "      <th>Case_Status</th>\n",
       "      <th>Quarter</th>\n",
       "      <th>Year</th>\n",
       "      <th>Work_state</th>\n",
       "      <th>Work_city</th>\n",
       "      <th>Employer_city</th>\n",
       "      <th>Employer_state</th>\n",
       "      <th>Case_Status_en</th>\n",
       "    </tr>\n",
       "  </thead>\n",
       "  <tbody>\n",
       "    <tr>\n",
       "      <th>0</th>\n",
       "      <td>H-1B</td>\n",
       "      <td>MICROSOFT CORPORATION</td>\n",
       "      <td>Software Developers, Applications</td>\n",
       "      <td>SOFTWARE ENGINEER</td>\n",
       "      <td>Y</td>\n",
       "      <td>112549.0</td>\n",
       "      <td>USA</td>\n",
       "      <td>CERTIFIED</td>\n",
       "      <td>Q1</td>\n",
       "      <td>2017</td>\n",
       "      <td>WASHINGTON</td>\n",
       "      <td>REDMOND</td>\n",
       "      <td>REDMOND</td>\n",
       "      <td>WASHINGTON</td>\n",
       "      <td>1</td>\n",
       "    </tr>\n",
       "    <tr>\n",
       "      <th>1</th>\n",
       "      <td>H-1B</td>\n",
       "      <td>ERNST &amp; YOUNG U.S. LLP</td>\n",
       "      <td>Accountants And Auditors</td>\n",
       "      <td>TAX SENIOR</td>\n",
       "      <td>Y</td>\n",
       "      <td>79976.0</td>\n",
       "      <td>USA</td>\n",
       "      <td>CERTIFIED</td>\n",
       "      <td>Q1</td>\n",
       "      <td>2017</td>\n",
       "      <td>CALIFORNIA</td>\n",
       "      <td>SANTA CLARA</td>\n",
       "      <td>SECAUCUS</td>\n",
       "      <td>NEW JERSEY</td>\n",
       "      <td>1</td>\n",
       "    </tr>\n",
       "    <tr>\n",
       "      <th>2</th>\n",
       "      <td>H-1B</td>\n",
       "      <td>LOGIXHUB LLC</td>\n",
       "      <td>Database Administrators</td>\n",
       "      <td>DATABASE ADMINISTRATOR</td>\n",
       "      <td>Y</td>\n",
       "      <td>77792.0</td>\n",
       "      <td>USA</td>\n",
       "      <td>CERTIFIED</td>\n",
       "      <td>Q1</td>\n",
       "      <td>2017</td>\n",
       "      <td>TEXAS</td>\n",
       "      <td>IRVING</td>\n",
       "      <td>IRVING</td>\n",
       "      <td>TEXAS</td>\n",
       "      <td>1</td>\n",
       "    </tr>\n",
       "    <tr>\n",
       "      <th>3</th>\n",
       "      <td>H-1B</td>\n",
       "      <td>HEXAWARE TECHNOLOGIES, INC.</td>\n",
       "      <td>Software Developers, Applications</td>\n",
       "      <td>SOFTWARE ENGINEER</td>\n",
       "      <td>Y</td>\n",
       "      <td>84406.0</td>\n",
       "      <td>USA</td>\n",
       "      <td>CERTIFIED</td>\n",
       "      <td>Q1</td>\n",
       "      <td>2017</td>\n",
       "      <td>DELAWARE</td>\n",
       "      <td>NEW CASTLE</td>\n",
       "      <td>ISELIN</td>\n",
       "      <td>NEW JERSEY</td>\n",
       "      <td>1</td>\n",
       "    </tr>\n",
       "    <tr>\n",
       "      <th>4</th>\n",
       "      <td>H-1B</td>\n",
       "      <td>ECLOUD LABS,INC.</td>\n",
       "      <td>Software Developers, Applications</td>\n",
       "      <td>MICROSOFT DYNAMICS CRM APPLICATION DEVELOPER</td>\n",
       "      <td>Y</td>\n",
       "      <td>87714.0</td>\n",
       "      <td>USA</td>\n",
       "      <td>CERTIFIED</td>\n",
       "      <td>Q1</td>\n",
       "      <td>2017</td>\n",
       "      <td>ALABAMA</td>\n",
       "      <td>BIRMINGHAM</td>\n",
       "      <td>ISELIN</td>\n",
       "      <td>NEW JERSEY</td>\n",
       "      <td>1</td>\n",
       "    </tr>\n",
       "  </tbody>\n",
       "</table>\n",
       "</div>"
      ],
      "text/plain": [
       "  Visa_Class                Employer_Name                          SOC_Title  \\\n",
       "0       H-1B        MICROSOFT CORPORATION  Software Developers, Applications   \n",
       "1       H-1B       ERNST & YOUNG U.S. LLP           Accountants And Auditors   \n",
       "2       H-1B                 LOGIXHUB LLC            Database Administrators   \n",
       "3       H-1B  HEXAWARE TECHNOLOGIES, INC.  Software Developers, Applications   \n",
       "4       H-1B             ECLOUD LABS,INC.  Software Developers, Applications   \n",
       "\n",
       "                                      Job_Title Full_Time_Position  \\\n",
       "0                             SOFTWARE ENGINEER                  Y   \n",
       "1                                    TAX SENIOR                  Y   \n",
       "2                        DATABASE ADMINISTRATOR                  Y   \n",
       "3                             SOFTWARE ENGINEER                  Y   \n",
       "4  MICROSOFT DYNAMICS CRM APPLICATION DEVELOPER                  Y   \n",
       "\n",
       "   Prevailing_Annual_Wage Employer_Country Case_Status Quarter  Year  \\\n",
       "0                112549.0              USA   CERTIFIED      Q1  2017   \n",
       "1                 79976.0              USA   CERTIFIED      Q1  2017   \n",
       "2                 77792.0              USA   CERTIFIED      Q1  2017   \n",
       "3                 84406.0              USA   CERTIFIED      Q1  2017   \n",
       "4                 87714.0              USA   CERTIFIED      Q1  2017   \n",
       "\n",
       "   Work_state    Work_city Employer_city Employer_state  Case_Status_en  \n",
       "0  WASHINGTON      REDMOND       REDMOND     WASHINGTON               1  \n",
       "1  CALIFORNIA  SANTA CLARA      SECAUCUS     NEW JERSEY               1  \n",
       "2       TEXAS       IRVING        IRVING          TEXAS               1  \n",
       "3    DELAWARE   NEW CASTLE        ISELIN     NEW JERSEY               1  \n",
       "4     ALABAMA   BIRMINGHAM        ISELIN     NEW JERSEY               1  "
      ]
     },
     "execution_count": 47,
     "metadata": {},
     "output_type": "execute_result"
    }
   ],
   "source": [
    "df2.head()"
   ]
  },
  {
   "cell_type": "code",
   "execution_count": 48,
   "id": "e4d3ba5b",
   "metadata": {},
   "outputs": [],
   "source": [
    "df2['Full_Time_Position_en'] = df2['Full_Time_Position'].map(dict(Y=1, N=0))"
   ]
  },
  {
   "cell_type": "code",
   "execution_count": 101,
   "id": "266422d6",
   "metadata": {},
   "outputs": [],
   "source": [
    "#df2 = df2.drop('Full_Time_Position', axis=1)\n"
   ]
  },
  {
   "cell_type": "markdown",
   "id": "80ece840",
   "metadata": {},
   "source": [
    "CATEGORIZATION"
   ]
  },
  {
   "cell_type": "code",
   "execution_count": 49,
   "id": "9112be0a",
   "metadata": {},
   "outputs": [],
   "source": [
    "def wage_categorization(wage):\n",
    "    if wage <=50000:\n",
    "        return \"VERY LOW\"\n",
    "    elif wage >50000 and wage <= 100000:\n",
    "        return \"LOW\"\n",
    "    elif wage >100000 and wage <= 200000:\n",
    "        return \"MEDIUM\"\n",
    "    elif wage >200000 and wage<=500000:\n",
    "        return \"HIGH\"\n",
    "    elif wage >=500000:\n",
    "        return \"VERY HIGH\""
   ]
  },
  {
   "cell_type": "code",
   "execution_count": 50,
   "id": "9c748c24",
   "metadata": {},
   "outputs": [],
   "source": [
    "df2['WAGE_CATEGORY'] = df2['Prevailing_Annual_Wage'].apply(wage_categorization)"
   ]
  },
  {
   "cell_type": "code",
   "execution_count": 51,
   "id": "7f2f91a5",
   "metadata": {},
   "outputs": [
    {
     "data": {
      "text/html": [
       "<div>\n",
       "<style scoped>\n",
       "    .dataframe tbody tr th:only-of-type {\n",
       "        vertical-align: middle;\n",
       "    }\n",
       "\n",
       "    .dataframe tbody tr th {\n",
       "        vertical-align: top;\n",
       "    }\n",
       "\n",
       "    .dataframe thead th {\n",
       "        text-align: right;\n",
       "    }\n",
       "</style>\n",
       "<table border=\"1\" class=\"dataframe\">\n",
       "  <thead>\n",
       "    <tr style=\"text-align: right;\">\n",
       "      <th></th>\n",
       "      <th>Visa_Class</th>\n",
       "      <th>Employer_Name</th>\n",
       "      <th>SOC_Title</th>\n",
       "      <th>Job_Title</th>\n",
       "      <th>Full_Time_Position</th>\n",
       "      <th>Prevailing_Annual_Wage</th>\n",
       "      <th>Employer_Country</th>\n",
       "      <th>Case_Status</th>\n",
       "      <th>Quarter</th>\n",
       "      <th>Year</th>\n",
       "      <th>Work_state</th>\n",
       "      <th>Work_city</th>\n",
       "      <th>Employer_city</th>\n",
       "      <th>Employer_state</th>\n",
       "      <th>Case_Status_en</th>\n",
       "      <th>Full_Time_Position_en</th>\n",
       "      <th>WAGE_CATEGORY</th>\n",
       "    </tr>\n",
       "  </thead>\n",
       "  <tbody>\n",
       "    <tr>\n",
       "      <th>0</th>\n",
       "      <td>H-1B</td>\n",
       "      <td>MICROSOFT CORPORATION</td>\n",
       "      <td>Software Developers, Applications</td>\n",
       "      <td>SOFTWARE ENGINEER</td>\n",
       "      <td>Y</td>\n",
       "      <td>112549.0</td>\n",
       "      <td>USA</td>\n",
       "      <td>CERTIFIED</td>\n",
       "      <td>Q1</td>\n",
       "      <td>2017</td>\n",
       "      <td>WASHINGTON</td>\n",
       "      <td>REDMOND</td>\n",
       "      <td>REDMOND</td>\n",
       "      <td>WASHINGTON</td>\n",
       "      <td>1</td>\n",
       "      <td>1</td>\n",
       "      <td>MEDIUM</td>\n",
       "    </tr>\n",
       "    <tr>\n",
       "      <th>1</th>\n",
       "      <td>H-1B</td>\n",
       "      <td>ERNST &amp; YOUNG U.S. LLP</td>\n",
       "      <td>Accountants And Auditors</td>\n",
       "      <td>TAX SENIOR</td>\n",
       "      <td>Y</td>\n",
       "      <td>79976.0</td>\n",
       "      <td>USA</td>\n",
       "      <td>CERTIFIED</td>\n",
       "      <td>Q1</td>\n",
       "      <td>2017</td>\n",
       "      <td>CALIFORNIA</td>\n",
       "      <td>SANTA CLARA</td>\n",
       "      <td>SECAUCUS</td>\n",
       "      <td>NEW JERSEY</td>\n",
       "      <td>1</td>\n",
       "      <td>1</td>\n",
       "      <td>LOW</td>\n",
       "    </tr>\n",
       "    <tr>\n",
       "      <th>2</th>\n",
       "      <td>H-1B</td>\n",
       "      <td>LOGIXHUB LLC</td>\n",
       "      <td>Database Administrators</td>\n",
       "      <td>DATABASE ADMINISTRATOR</td>\n",
       "      <td>Y</td>\n",
       "      <td>77792.0</td>\n",
       "      <td>USA</td>\n",
       "      <td>CERTIFIED</td>\n",
       "      <td>Q1</td>\n",
       "      <td>2017</td>\n",
       "      <td>TEXAS</td>\n",
       "      <td>IRVING</td>\n",
       "      <td>IRVING</td>\n",
       "      <td>TEXAS</td>\n",
       "      <td>1</td>\n",
       "      <td>1</td>\n",
       "      <td>LOW</td>\n",
       "    </tr>\n",
       "    <tr>\n",
       "      <th>3</th>\n",
       "      <td>H-1B</td>\n",
       "      <td>HEXAWARE TECHNOLOGIES, INC.</td>\n",
       "      <td>Software Developers, Applications</td>\n",
       "      <td>SOFTWARE ENGINEER</td>\n",
       "      <td>Y</td>\n",
       "      <td>84406.0</td>\n",
       "      <td>USA</td>\n",
       "      <td>CERTIFIED</td>\n",
       "      <td>Q1</td>\n",
       "      <td>2017</td>\n",
       "      <td>DELAWARE</td>\n",
       "      <td>NEW CASTLE</td>\n",
       "      <td>ISELIN</td>\n",
       "      <td>NEW JERSEY</td>\n",
       "      <td>1</td>\n",
       "      <td>1</td>\n",
       "      <td>LOW</td>\n",
       "    </tr>\n",
       "    <tr>\n",
       "      <th>4</th>\n",
       "      <td>H-1B</td>\n",
       "      <td>ECLOUD LABS,INC.</td>\n",
       "      <td>Software Developers, Applications</td>\n",
       "      <td>MICROSOFT DYNAMICS CRM APPLICATION DEVELOPER</td>\n",
       "      <td>Y</td>\n",
       "      <td>87714.0</td>\n",
       "      <td>USA</td>\n",
       "      <td>CERTIFIED</td>\n",
       "      <td>Q1</td>\n",
       "      <td>2017</td>\n",
       "      <td>ALABAMA</td>\n",
       "      <td>BIRMINGHAM</td>\n",
       "      <td>ISELIN</td>\n",
       "      <td>NEW JERSEY</td>\n",
       "      <td>1</td>\n",
       "      <td>1</td>\n",
       "      <td>LOW</td>\n",
       "    </tr>\n",
       "  </tbody>\n",
       "</table>\n",
       "</div>"
      ],
      "text/plain": [
       "  Visa_Class                Employer_Name                          SOC_Title  \\\n",
       "0       H-1B        MICROSOFT CORPORATION  Software Developers, Applications   \n",
       "1       H-1B       ERNST & YOUNG U.S. LLP           Accountants And Auditors   \n",
       "2       H-1B                 LOGIXHUB LLC            Database Administrators   \n",
       "3       H-1B  HEXAWARE TECHNOLOGIES, INC.  Software Developers, Applications   \n",
       "4       H-1B             ECLOUD LABS,INC.  Software Developers, Applications   \n",
       "\n",
       "                                      Job_Title Full_Time_Position  \\\n",
       "0                             SOFTWARE ENGINEER                  Y   \n",
       "1                                    TAX SENIOR                  Y   \n",
       "2                        DATABASE ADMINISTRATOR                  Y   \n",
       "3                             SOFTWARE ENGINEER                  Y   \n",
       "4  MICROSOFT DYNAMICS CRM APPLICATION DEVELOPER                  Y   \n",
       "\n",
       "   Prevailing_Annual_Wage Employer_Country Case_Status Quarter  Year  \\\n",
       "0                112549.0              USA   CERTIFIED      Q1  2017   \n",
       "1                 79976.0              USA   CERTIFIED      Q1  2017   \n",
       "2                 77792.0              USA   CERTIFIED      Q1  2017   \n",
       "3                 84406.0              USA   CERTIFIED      Q1  2017   \n",
       "4                 87714.0              USA   CERTIFIED      Q1  2017   \n",
       "\n",
       "   Work_state    Work_city Employer_city Employer_state  Case_Status_en  \\\n",
       "0  WASHINGTON      REDMOND       REDMOND     WASHINGTON               1   \n",
       "1  CALIFORNIA  SANTA CLARA      SECAUCUS     NEW JERSEY               1   \n",
       "2       TEXAS       IRVING        IRVING          TEXAS               1   \n",
       "3    DELAWARE   NEW CASTLE        ISELIN     NEW JERSEY               1   \n",
       "4     ALABAMA   BIRMINGHAM        ISELIN     NEW JERSEY               1   \n",
       "\n",
       "   Full_Time_Position_en WAGE_CATEGORY  \n",
       "0                      1        MEDIUM  \n",
       "1                      1           LOW  \n",
       "2                      1           LOW  \n",
       "3                      1           LOW  \n",
       "4                      1           LOW  "
      ]
     },
     "execution_count": 51,
     "metadata": {},
     "output_type": "execute_result"
    }
   ],
   "source": [
    "df2.head()"
   ]
  },
  {
   "cell_type": "markdown",
   "id": "198a5b45",
   "metadata": {},
   "source": [
    "DUMMY ENCODING "
   ]
  },
  {
   "cell_type": "code",
   "execution_count": 241,
   "id": "343c29e8",
   "metadata": {},
   "outputs": [],
   "source": [
    "#df2 = pd.get_dummies(data=df2, columns=['Year'])"
   ]
  },
  {
   "cell_type": "code",
   "execution_count": 242,
   "id": "d8be276d",
   "metadata": {},
   "outputs": [],
   "source": [
    "#df2 = pd.get_dummies(data=df2, columns=['WAGE_CATEGORY'])"
   ]
  },
  {
   "cell_type": "code",
   "execution_count": 52,
   "id": "bbb9af5a",
   "metadata": {},
   "outputs": [
    {
     "data": {
      "text/html": [
       "<div>\n",
       "<style scoped>\n",
       "    .dataframe tbody tr th:only-of-type {\n",
       "        vertical-align: middle;\n",
       "    }\n",
       "\n",
       "    .dataframe tbody tr th {\n",
       "        vertical-align: top;\n",
       "    }\n",
       "\n",
       "    .dataframe thead th {\n",
       "        text-align: right;\n",
       "    }\n",
       "</style>\n",
       "<table border=\"1\" class=\"dataframe\">\n",
       "  <thead>\n",
       "    <tr style=\"text-align: right;\">\n",
       "      <th></th>\n",
       "      <th>Visa_Class</th>\n",
       "      <th>Employer_Name</th>\n",
       "      <th>SOC_Title</th>\n",
       "      <th>Job_Title</th>\n",
       "      <th>Full_Time_Position</th>\n",
       "      <th>Prevailing_Annual_Wage</th>\n",
       "      <th>Employer_Country</th>\n",
       "      <th>Case_Status</th>\n",
       "      <th>Quarter</th>\n",
       "      <th>Year</th>\n",
       "      <th>Work_state</th>\n",
       "      <th>Work_city</th>\n",
       "      <th>Employer_city</th>\n",
       "      <th>Employer_state</th>\n",
       "      <th>Case_Status_en</th>\n",
       "      <th>Full_Time_Position_en</th>\n",
       "      <th>WAGE_CATEGORY</th>\n",
       "    </tr>\n",
       "  </thead>\n",
       "  <tbody>\n",
       "    <tr>\n",
       "      <th>0</th>\n",
       "      <td>H-1B</td>\n",
       "      <td>MICROSOFT CORPORATION</td>\n",
       "      <td>Software Developers, Applications</td>\n",
       "      <td>SOFTWARE ENGINEER</td>\n",
       "      <td>Y</td>\n",
       "      <td>112549.0</td>\n",
       "      <td>USA</td>\n",
       "      <td>CERTIFIED</td>\n",
       "      <td>Q1</td>\n",
       "      <td>2017</td>\n",
       "      <td>WASHINGTON</td>\n",
       "      <td>REDMOND</td>\n",
       "      <td>REDMOND</td>\n",
       "      <td>WASHINGTON</td>\n",
       "      <td>1</td>\n",
       "      <td>1</td>\n",
       "      <td>MEDIUM</td>\n",
       "    </tr>\n",
       "    <tr>\n",
       "      <th>1</th>\n",
       "      <td>H-1B</td>\n",
       "      <td>ERNST &amp; YOUNG U.S. LLP</td>\n",
       "      <td>Accountants And Auditors</td>\n",
       "      <td>TAX SENIOR</td>\n",
       "      <td>Y</td>\n",
       "      <td>79976.0</td>\n",
       "      <td>USA</td>\n",
       "      <td>CERTIFIED</td>\n",
       "      <td>Q1</td>\n",
       "      <td>2017</td>\n",
       "      <td>CALIFORNIA</td>\n",
       "      <td>SANTA CLARA</td>\n",
       "      <td>SECAUCUS</td>\n",
       "      <td>NEW JERSEY</td>\n",
       "      <td>1</td>\n",
       "      <td>1</td>\n",
       "      <td>LOW</td>\n",
       "    </tr>\n",
       "    <tr>\n",
       "      <th>2</th>\n",
       "      <td>H-1B</td>\n",
       "      <td>LOGIXHUB LLC</td>\n",
       "      <td>Database Administrators</td>\n",
       "      <td>DATABASE ADMINISTRATOR</td>\n",
       "      <td>Y</td>\n",
       "      <td>77792.0</td>\n",
       "      <td>USA</td>\n",
       "      <td>CERTIFIED</td>\n",
       "      <td>Q1</td>\n",
       "      <td>2017</td>\n",
       "      <td>TEXAS</td>\n",
       "      <td>IRVING</td>\n",
       "      <td>IRVING</td>\n",
       "      <td>TEXAS</td>\n",
       "      <td>1</td>\n",
       "      <td>1</td>\n",
       "      <td>LOW</td>\n",
       "    </tr>\n",
       "    <tr>\n",
       "      <th>3</th>\n",
       "      <td>H-1B</td>\n",
       "      <td>HEXAWARE TECHNOLOGIES, INC.</td>\n",
       "      <td>Software Developers, Applications</td>\n",
       "      <td>SOFTWARE ENGINEER</td>\n",
       "      <td>Y</td>\n",
       "      <td>84406.0</td>\n",
       "      <td>USA</td>\n",
       "      <td>CERTIFIED</td>\n",
       "      <td>Q1</td>\n",
       "      <td>2017</td>\n",
       "      <td>DELAWARE</td>\n",
       "      <td>NEW CASTLE</td>\n",
       "      <td>ISELIN</td>\n",
       "      <td>NEW JERSEY</td>\n",
       "      <td>1</td>\n",
       "      <td>1</td>\n",
       "      <td>LOW</td>\n",
       "    </tr>\n",
       "    <tr>\n",
       "      <th>4</th>\n",
       "      <td>H-1B</td>\n",
       "      <td>ECLOUD LABS,INC.</td>\n",
       "      <td>Software Developers, Applications</td>\n",
       "      <td>MICROSOFT DYNAMICS CRM APPLICATION DEVELOPER</td>\n",
       "      <td>Y</td>\n",
       "      <td>87714.0</td>\n",
       "      <td>USA</td>\n",
       "      <td>CERTIFIED</td>\n",
       "      <td>Q1</td>\n",
       "      <td>2017</td>\n",
       "      <td>ALABAMA</td>\n",
       "      <td>BIRMINGHAM</td>\n",
       "      <td>ISELIN</td>\n",
       "      <td>NEW JERSEY</td>\n",
       "      <td>1</td>\n",
       "      <td>1</td>\n",
       "      <td>LOW</td>\n",
       "    </tr>\n",
       "  </tbody>\n",
       "</table>\n",
       "</div>"
      ],
      "text/plain": [
       "  Visa_Class                Employer_Name                          SOC_Title  \\\n",
       "0       H-1B        MICROSOFT CORPORATION  Software Developers, Applications   \n",
       "1       H-1B       ERNST & YOUNG U.S. LLP           Accountants And Auditors   \n",
       "2       H-1B                 LOGIXHUB LLC            Database Administrators   \n",
       "3       H-1B  HEXAWARE TECHNOLOGIES, INC.  Software Developers, Applications   \n",
       "4       H-1B             ECLOUD LABS,INC.  Software Developers, Applications   \n",
       "\n",
       "                                      Job_Title Full_Time_Position  \\\n",
       "0                             SOFTWARE ENGINEER                  Y   \n",
       "1                                    TAX SENIOR                  Y   \n",
       "2                        DATABASE ADMINISTRATOR                  Y   \n",
       "3                             SOFTWARE ENGINEER                  Y   \n",
       "4  MICROSOFT DYNAMICS CRM APPLICATION DEVELOPER                  Y   \n",
       "\n",
       "   Prevailing_Annual_Wage Employer_Country Case_Status Quarter  Year  \\\n",
       "0                112549.0              USA   CERTIFIED      Q1  2017   \n",
       "1                 79976.0              USA   CERTIFIED      Q1  2017   \n",
       "2                 77792.0              USA   CERTIFIED      Q1  2017   \n",
       "3                 84406.0              USA   CERTIFIED      Q1  2017   \n",
       "4                 87714.0              USA   CERTIFIED      Q1  2017   \n",
       "\n",
       "   Work_state    Work_city Employer_city Employer_state  Case_Status_en  \\\n",
       "0  WASHINGTON      REDMOND       REDMOND     WASHINGTON               1   \n",
       "1  CALIFORNIA  SANTA CLARA      SECAUCUS     NEW JERSEY               1   \n",
       "2       TEXAS       IRVING        IRVING          TEXAS               1   \n",
       "3    DELAWARE   NEW CASTLE        ISELIN     NEW JERSEY               1   \n",
       "4     ALABAMA   BIRMINGHAM        ISELIN     NEW JERSEY               1   \n",
       "\n",
       "   Full_Time_Position_en WAGE_CATEGORY  \n",
       "0                      1        MEDIUM  \n",
       "1                      1           LOW  \n",
       "2                      1           LOW  \n",
       "3                      1           LOW  \n",
       "4                      1           LOW  "
      ]
     },
     "execution_count": 52,
     "metadata": {},
     "output_type": "execute_result"
    }
   ],
   "source": [
    "df2.head()"
   ]
  },
  {
   "cell_type": "code",
   "execution_count": 53,
   "id": "6556ec8a",
   "metadata": {},
   "outputs": [],
   "source": [
    "def categorisation_visagrant(ratio_of_acceptance):\n",
    "    if ratio_of_acceptance == -1:\n",
    "        return \"AR\"\n",
    "    elif ratio_of_acceptance >=0.0 and ratio_of_acceptance<0.20:\n",
    "        return \"VLA\"\n",
    "    elif ratio_of_acceptance>=0.20 and ratio_of_acceptance<0.40:\n",
    "        return \"LA\"\n",
    "    elif ratio_of_acceptance>=0.40 and ratio_of_acceptance<0.60:\n",
    "        return \"MA\"\n",
    "    elif ratio_of_acceptance>=0.60 and ratio_of_acceptance<0.80:\n",
    "        return \"HA\"\n",
    "    elif ratio_of_acceptance>=0.80:\n",
    "        return \"VHA\""
   ]
  },
  {
   "cell_type": "code",
   "execution_count": 54,
   "id": "844f2cbc",
   "metadata": {},
   "outputs": [],
   "source": [
    "training_dataframe_1 = df2.loc[:,['Employer_Name', 'Case_Status']]\n",
    "training_dataframe_1s = df2.loc[:,['SOC_Title', 'Case_Status']]\n",
    "training_dataframe_1j = df2.loc[:,['Job_Title', 'Case_Status']]"
   ]
  },
  {
   "cell_type": "code",
   "execution_count": 55,
   "id": "ef1bfc12",
   "metadata": {},
   "outputs": [],
   "source": [
    "training_dataframe_2_C = training_dataframe_1[training_dataframe_1.Case_Status == 'CERTIFIED'].Employer_Name\n",
    "training_dataframe_2_Cs = training_dataframe_1s[training_dataframe_1s.Case_Status == 'CERTIFIED'].SOC_Title\n",
    "training_dataframe_2_Cj = training_dataframe_1j[training_dataframe_1j.Case_Status == 'CERTIFIED'].Job_Title\n",
    "positive_counts = training_dataframe_2_C.value_counts()\n",
    "positive_counts_s = training_dataframe_2_Cs.value_counts()\n",
    "positive_counts_j = training_dataframe_2_Cj.value_counts()"
   ]
  },
  {
   "cell_type": "code",
   "execution_count": 56,
   "id": "4e850160",
   "metadata": {},
   "outputs": [],
   "source": [
    "total_counts = training_dataframe_1.Employer_Name.value_counts()\n",
    "total_counts_s = training_dataframe_1s.SOC_Title.value_counts()\n",
    "total_counts_j = training_dataframe_1j.Job_Title.value_counts()"
   ]
  },
  {
   "cell_type": "code",
   "execution_count": 57,
   "id": "c727a4b2",
   "metadata": {},
   "outputs": [],
   "source": [
    "final_ratio_series = positive_counts / total_counts\n",
    "\n",
    "final_ratio_series.fillna(-1, inplace=True)\n",
    "final_classification_employer = final_ratio_series.apply(categorisation_visagrant)\n",
    "df2['EMPLOYER_ACCEPTANCE'] = df2.Employer_Name.map(final_classification_employer)"
   ]
  },
  {
   "cell_type": "code",
   "execution_count": 58,
   "id": "b33dd98b",
   "metadata": {},
   "outputs": [],
   "source": [
    "final_ratio_series_s = positive_counts_s / total_counts_s\n",
    "final_ratio_series_s.fillna(-1, inplace=True)\n",
    "final_classification_soc = final_ratio_series_s.apply(categorisation_visagrant)\n",
    "df2['SOC_ACCEPTANCE'] = df2.SOC_Title.map(final_classification_soc)"
   ]
  },
  {
   "cell_type": "code",
   "execution_count": 59,
   "id": "a2268e12",
   "metadata": {},
   "outputs": [],
   "source": [
    "final_ratio_series_j = positive_counts_j / total_counts_j\n",
    "final_ratio_series_j.fillna(-1, inplace=True)\n",
    "final_classification_job = final_ratio_series_j.apply(categorisation_visagrant)\n",
    "df2['JOB_ACCEPTANCE'] = df2.Job_Title.map(final_classification_job)\n"
   ]
  },
  {
   "cell_type": "code",
   "execution_count": 60,
   "id": "7f9f3eb9",
   "metadata": {},
   "outputs": [
    {
     "data": {
      "text/html": [
       "<div>\n",
       "<style scoped>\n",
       "    .dataframe tbody tr th:only-of-type {\n",
       "        vertical-align: middle;\n",
       "    }\n",
       "\n",
       "    .dataframe tbody tr th {\n",
       "        vertical-align: top;\n",
       "    }\n",
       "\n",
       "    .dataframe thead th {\n",
       "        text-align: right;\n",
       "    }\n",
       "</style>\n",
       "<table border=\"1\" class=\"dataframe\">\n",
       "  <thead>\n",
       "    <tr style=\"text-align: right;\">\n",
       "      <th></th>\n",
       "      <th>Visa_Class</th>\n",
       "      <th>Employer_Name</th>\n",
       "      <th>SOC_Title</th>\n",
       "      <th>Job_Title</th>\n",
       "      <th>Full_Time_Position</th>\n",
       "      <th>Prevailing_Annual_Wage</th>\n",
       "      <th>Employer_Country</th>\n",
       "      <th>Case_Status</th>\n",
       "      <th>Quarter</th>\n",
       "      <th>Year</th>\n",
       "      <th>Work_state</th>\n",
       "      <th>Work_city</th>\n",
       "      <th>Employer_city</th>\n",
       "      <th>Employer_state</th>\n",
       "      <th>Case_Status_en</th>\n",
       "      <th>Full_Time_Position_en</th>\n",
       "      <th>WAGE_CATEGORY</th>\n",
       "      <th>EMPLOYER_ACCEPTANCE</th>\n",
       "      <th>SOC_ACCEPTANCE</th>\n",
       "      <th>JOB_ACCEPTANCE</th>\n",
       "    </tr>\n",
       "  </thead>\n",
       "  <tbody>\n",
       "    <tr>\n",
       "      <th>0</th>\n",
       "      <td>H-1B</td>\n",
       "      <td>MICROSOFT CORPORATION</td>\n",
       "      <td>Software Developers, Applications</td>\n",
       "      <td>SOFTWARE ENGINEER</td>\n",
       "      <td>Y</td>\n",
       "      <td>112549.0</td>\n",
       "      <td>USA</td>\n",
       "      <td>CERTIFIED</td>\n",
       "      <td>Q1</td>\n",
       "      <td>2017</td>\n",
       "      <td>WASHINGTON</td>\n",
       "      <td>REDMOND</td>\n",
       "      <td>REDMOND</td>\n",
       "      <td>WASHINGTON</td>\n",
       "      <td>1</td>\n",
       "      <td>1</td>\n",
       "      <td>MEDIUM</td>\n",
       "      <td>VHA</td>\n",
       "      <td>VHA</td>\n",
       "      <td>VHA</td>\n",
       "    </tr>\n",
       "    <tr>\n",
       "      <th>1</th>\n",
       "      <td>H-1B</td>\n",
       "      <td>ERNST &amp; YOUNG U.S. LLP</td>\n",
       "      <td>Accountants And Auditors</td>\n",
       "      <td>TAX SENIOR</td>\n",
       "      <td>Y</td>\n",
       "      <td>79976.0</td>\n",
       "      <td>USA</td>\n",
       "      <td>CERTIFIED</td>\n",
       "      <td>Q1</td>\n",
       "      <td>2017</td>\n",
       "      <td>CALIFORNIA</td>\n",
       "      <td>SANTA CLARA</td>\n",
       "      <td>SECAUCUS</td>\n",
       "      <td>NEW JERSEY</td>\n",
       "      <td>1</td>\n",
       "      <td>1</td>\n",
       "      <td>LOW</td>\n",
       "      <td>VHA</td>\n",
       "      <td>VHA</td>\n",
       "      <td>VHA</td>\n",
       "    </tr>\n",
       "    <tr>\n",
       "      <th>2</th>\n",
       "      <td>H-1B</td>\n",
       "      <td>LOGIXHUB LLC</td>\n",
       "      <td>Database Administrators</td>\n",
       "      <td>DATABASE ADMINISTRATOR</td>\n",
       "      <td>Y</td>\n",
       "      <td>77792.0</td>\n",
       "      <td>USA</td>\n",
       "      <td>CERTIFIED</td>\n",
       "      <td>Q1</td>\n",
       "      <td>2017</td>\n",
       "      <td>TEXAS</td>\n",
       "      <td>IRVING</td>\n",
       "      <td>IRVING</td>\n",
       "      <td>TEXAS</td>\n",
       "      <td>1</td>\n",
       "      <td>1</td>\n",
       "      <td>LOW</td>\n",
       "      <td>VHA</td>\n",
       "      <td>VHA</td>\n",
       "      <td>VHA</td>\n",
       "    </tr>\n",
       "    <tr>\n",
       "      <th>3</th>\n",
       "      <td>H-1B</td>\n",
       "      <td>HEXAWARE TECHNOLOGIES, INC.</td>\n",
       "      <td>Software Developers, Applications</td>\n",
       "      <td>SOFTWARE ENGINEER</td>\n",
       "      <td>Y</td>\n",
       "      <td>84406.0</td>\n",
       "      <td>USA</td>\n",
       "      <td>CERTIFIED</td>\n",
       "      <td>Q1</td>\n",
       "      <td>2017</td>\n",
       "      <td>DELAWARE</td>\n",
       "      <td>NEW CASTLE</td>\n",
       "      <td>ISELIN</td>\n",
       "      <td>NEW JERSEY</td>\n",
       "      <td>1</td>\n",
       "      <td>1</td>\n",
       "      <td>LOW</td>\n",
       "      <td>HA</td>\n",
       "      <td>VHA</td>\n",
       "      <td>VHA</td>\n",
       "    </tr>\n",
       "    <tr>\n",
       "      <th>4</th>\n",
       "      <td>H-1B</td>\n",
       "      <td>ECLOUD LABS,INC.</td>\n",
       "      <td>Software Developers, Applications</td>\n",
       "      <td>MICROSOFT DYNAMICS CRM APPLICATION DEVELOPER</td>\n",
       "      <td>Y</td>\n",
       "      <td>87714.0</td>\n",
       "      <td>USA</td>\n",
       "      <td>CERTIFIED</td>\n",
       "      <td>Q1</td>\n",
       "      <td>2017</td>\n",
       "      <td>ALABAMA</td>\n",
       "      <td>BIRMINGHAM</td>\n",
       "      <td>ISELIN</td>\n",
       "      <td>NEW JERSEY</td>\n",
       "      <td>1</td>\n",
       "      <td>1</td>\n",
       "      <td>LOW</td>\n",
       "      <td>VHA</td>\n",
       "      <td>VHA</td>\n",
       "      <td>VHA</td>\n",
       "    </tr>\n",
       "  </tbody>\n",
       "</table>\n",
       "</div>"
      ],
      "text/plain": [
       "  Visa_Class                Employer_Name                          SOC_Title  \\\n",
       "0       H-1B        MICROSOFT CORPORATION  Software Developers, Applications   \n",
       "1       H-1B       ERNST & YOUNG U.S. LLP           Accountants And Auditors   \n",
       "2       H-1B                 LOGIXHUB LLC            Database Administrators   \n",
       "3       H-1B  HEXAWARE TECHNOLOGIES, INC.  Software Developers, Applications   \n",
       "4       H-1B             ECLOUD LABS,INC.  Software Developers, Applications   \n",
       "\n",
       "                                      Job_Title Full_Time_Position  \\\n",
       "0                             SOFTWARE ENGINEER                  Y   \n",
       "1                                    TAX SENIOR                  Y   \n",
       "2                        DATABASE ADMINISTRATOR                  Y   \n",
       "3                             SOFTWARE ENGINEER                  Y   \n",
       "4  MICROSOFT DYNAMICS CRM APPLICATION DEVELOPER                  Y   \n",
       "\n",
       "   Prevailing_Annual_Wage Employer_Country Case_Status Quarter  Year  \\\n",
       "0                112549.0              USA   CERTIFIED      Q1  2017   \n",
       "1                 79976.0              USA   CERTIFIED      Q1  2017   \n",
       "2                 77792.0              USA   CERTIFIED      Q1  2017   \n",
       "3                 84406.0              USA   CERTIFIED      Q1  2017   \n",
       "4                 87714.0              USA   CERTIFIED      Q1  2017   \n",
       "\n",
       "   Work_state    Work_city Employer_city Employer_state  Case_Status_en  \\\n",
       "0  WASHINGTON      REDMOND       REDMOND     WASHINGTON               1   \n",
       "1  CALIFORNIA  SANTA CLARA      SECAUCUS     NEW JERSEY               1   \n",
       "2       TEXAS       IRVING        IRVING          TEXAS               1   \n",
       "3    DELAWARE   NEW CASTLE        ISELIN     NEW JERSEY               1   \n",
       "4     ALABAMA   BIRMINGHAM        ISELIN     NEW JERSEY               1   \n",
       "\n",
       "   Full_Time_Position_en WAGE_CATEGORY EMPLOYER_ACCEPTANCE SOC_ACCEPTANCE  \\\n",
       "0                      1        MEDIUM                 VHA            VHA   \n",
       "1                      1           LOW                 VHA            VHA   \n",
       "2                      1           LOW                 VHA            VHA   \n",
       "3                      1           LOW                  HA            VHA   \n",
       "4                      1           LOW                 VHA            VHA   \n",
       "\n",
       "  JOB_ACCEPTANCE  \n",
       "0            VHA  \n",
       "1            VHA  \n",
       "2            VHA  \n",
       "3            VHA  \n",
       "4            VHA  "
      ]
     },
     "execution_count": 60,
     "metadata": {},
     "output_type": "execute_result"
    }
   ],
   "source": [
    "df2.head()"
   ]
  },
  {
   "cell_type": "code",
   "execution_count": 61,
   "id": "f1586a86",
   "metadata": {},
   "outputs": [
    {
     "name": "stdout",
     "output_type": "stream",
     "text": [
      "Case Status  2\n",
      "Unique Employers  6\n",
      "Unique SOCs  6\n",
      "Unique Job Titles  6\n",
      "Unique Worksite State  50\n",
      "Unique Employment Type  2\n"
     ]
    }
   ],
   "source": [
    "print(\"Case Status \",df2.Case_Status.nunique())\n",
    "print(\"Unique Employers \",df2.EMPLOYER_ACCEPTANCE.nunique())\n",
    "#print(\"Wages Category\", df2.WAGE_CATEGORY.nunique())\n",
    "print(\"Unique SOCs \", df2.SOC_ACCEPTANCE.nunique())\n",
    "print(\"Unique Job Titles \",df2.JOB_ACCEPTANCE.nunique())\n",
    "#print(\"Unique Filing Year \",df2.FILING_YEAR.nunique())\n",
    "print(\"Unique Worksite State \",df2.Work_state.nunique())\n",
    "print(\"Unique Employment Type \", df2.Full_Time_Position.nunique())"
   ]
  },
  {
   "cell_type": "code",
   "execution_count": 62,
   "id": "6bdefc42",
   "metadata": {},
   "outputs": [
    {
     "data": {
      "text/html": [
       "<div>\n",
       "<style scoped>\n",
       "    .dataframe tbody tr th:only-of-type {\n",
       "        vertical-align: middle;\n",
       "    }\n",
       "\n",
       "    .dataframe tbody tr th {\n",
       "        vertical-align: top;\n",
       "    }\n",
       "\n",
       "    .dataframe thead th {\n",
       "        text-align: right;\n",
       "    }\n",
       "</style>\n",
       "<table border=\"1\" class=\"dataframe\">\n",
       "  <thead>\n",
       "    <tr style=\"text-align: right;\">\n",
       "      <th></th>\n",
       "      <th>Case_Status_en</th>\n",
       "      <th>Year</th>\n",
       "      <th>Work_state</th>\n",
       "      <th>WAGE_CATEGORY</th>\n",
       "      <th>EMPLOYER_ACCEPTANCE</th>\n",
       "      <th>JOB_ACCEPTANCE</th>\n",
       "      <th>SOC_ACCEPTANCE</th>\n",
       "      <th>Full_Time_Position_en</th>\n",
       "    </tr>\n",
       "  </thead>\n",
       "  <tbody>\n",
       "    <tr>\n",
       "      <th>0</th>\n",
       "      <td>1</td>\n",
       "      <td>2017</td>\n",
       "      <td>WASHINGTON</td>\n",
       "      <td>MEDIUM</td>\n",
       "      <td>VHA</td>\n",
       "      <td>VHA</td>\n",
       "      <td>VHA</td>\n",
       "      <td>1</td>\n",
       "    </tr>\n",
       "    <tr>\n",
       "      <th>1</th>\n",
       "      <td>1</td>\n",
       "      <td>2017</td>\n",
       "      <td>CALIFORNIA</td>\n",
       "      <td>LOW</td>\n",
       "      <td>VHA</td>\n",
       "      <td>VHA</td>\n",
       "      <td>VHA</td>\n",
       "      <td>1</td>\n",
       "    </tr>\n",
       "    <tr>\n",
       "      <th>2</th>\n",
       "      <td>1</td>\n",
       "      <td>2017</td>\n",
       "      <td>TEXAS</td>\n",
       "      <td>LOW</td>\n",
       "      <td>VHA</td>\n",
       "      <td>VHA</td>\n",
       "      <td>VHA</td>\n",
       "      <td>1</td>\n",
       "    </tr>\n",
       "    <tr>\n",
       "      <th>3</th>\n",
       "      <td>1</td>\n",
       "      <td>2017</td>\n",
       "      <td>DELAWARE</td>\n",
       "      <td>LOW</td>\n",
       "      <td>HA</td>\n",
       "      <td>VHA</td>\n",
       "      <td>VHA</td>\n",
       "      <td>1</td>\n",
       "    </tr>\n",
       "    <tr>\n",
       "      <th>4</th>\n",
       "      <td>1</td>\n",
       "      <td>2017</td>\n",
       "      <td>ALABAMA</td>\n",
       "      <td>LOW</td>\n",
       "      <td>VHA</td>\n",
       "      <td>VHA</td>\n",
       "      <td>VHA</td>\n",
       "      <td>1</td>\n",
       "    </tr>\n",
       "  </tbody>\n",
       "</table>\n",
       "</div>"
      ],
      "text/plain": [
       "   Case_Status_en  Year  Work_state WAGE_CATEGORY EMPLOYER_ACCEPTANCE  \\\n",
       "0               1  2017  WASHINGTON        MEDIUM                 VHA   \n",
       "1               1  2017  CALIFORNIA           LOW                 VHA   \n",
       "2               1  2017       TEXAS           LOW                 VHA   \n",
       "3               1  2017    DELAWARE           LOW                  HA   \n",
       "4               1  2017     ALABAMA           LOW                 VHA   \n",
       "\n",
       "  JOB_ACCEPTANCE SOC_ACCEPTANCE  Full_Time_Position_en  \n",
       "0            VHA            VHA                      1  \n",
       "1            VHA            VHA                      1  \n",
       "2            VHA            VHA                      1  \n",
       "3            VHA            VHA                      1  \n",
       "4            VHA            VHA                      1  "
      ]
     },
     "execution_count": 62,
     "metadata": {},
     "output_type": "execute_result"
    }
   ],
   "source": [
    "df2['Year'] = df2['Year'].astype('int')\n",
    "df2.sort_index(inplace = True)\n",
    "df2 = df2.loc[:, ['Case_Status_en', 'Year', 'Work_state', 'WAGE_CATEGORY',  'EMPLOYER_ACCEPTANCE', 'JOB_ACCEPTANCE', 'SOC_ACCEPTANCE', 'Full_Time_Position_en']]\n",
    "df2.head()"
   ]
  },
  {
   "cell_type": "code",
   "execution_count": 63,
   "id": "cf90f023",
   "metadata": {},
   "outputs": [
    {
     "data": {
      "text/html": [
       "<div>\n",
       "<style scoped>\n",
       "    .dataframe tbody tr th:only-of-type {\n",
       "        vertical-align: middle;\n",
       "    }\n",
       "\n",
       "    .dataframe tbody tr th {\n",
       "        vertical-align: top;\n",
       "    }\n",
       "\n",
       "    .dataframe thead th {\n",
       "        text-align: right;\n",
       "    }\n",
       "</style>\n",
       "<table border=\"1\" class=\"dataframe\">\n",
       "  <thead>\n",
       "    <tr style=\"text-align: right;\">\n",
       "      <th></th>\n",
       "      <th>Case_Status_en</th>\n",
       "      <th>Year_2018</th>\n",
       "      <th>Year_2019</th>\n",
       "      <th>Year_2020</th>\n",
       "      <th>Year_2021</th>\n",
       "      <th>Year_2022</th>\n",
       "      <th>Work_state_ALASKA</th>\n",
       "      <th>Work_state_ARIZONA</th>\n",
       "      <th>Work_state_ARKANSAS</th>\n",
       "      <th>Work_state_CALIFORNIA</th>\n",
       "      <th>...</th>\n",
       "      <th>JOB_ACCEPTANCE_HA</th>\n",
       "      <th>JOB_ACCEPTANCE_LA</th>\n",
       "      <th>JOB_ACCEPTANCE_MA</th>\n",
       "      <th>JOB_ACCEPTANCE_VHA</th>\n",
       "      <th>JOB_ACCEPTANCE_VLA</th>\n",
       "      <th>SOC_ACCEPTANCE_HA</th>\n",
       "      <th>SOC_ACCEPTANCE_LA</th>\n",
       "      <th>SOC_ACCEPTANCE_MA</th>\n",
       "      <th>SOC_ACCEPTANCE_VHA</th>\n",
       "      <th>SOC_ACCEPTANCE_VLA</th>\n",
       "    </tr>\n",
       "  </thead>\n",
       "  <tbody>\n",
       "    <tr>\n",
       "      <th>0</th>\n",
       "      <td>1</td>\n",
       "      <td>0</td>\n",
       "      <td>0</td>\n",
       "      <td>0</td>\n",
       "      <td>0</td>\n",
       "      <td>0</td>\n",
       "      <td>0</td>\n",
       "      <td>0</td>\n",
       "      <td>0</td>\n",
       "      <td>0</td>\n",
       "      <td>...</td>\n",
       "      <td>0</td>\n",
       "      <td>0</td>\n",
       "      <td>0</td>\n",
       "      <td>1</td>\n",
       "      <td>0</td>\n",
       "      <td>0</td>\n",
       "      <td>0</td>\n",
       "      <td>0</td>\n",
       "      <td>1</td>\n",
       "      <td>0</td>\n",
       "    </tr>\n",
       "    <tr>\n",
       "      <th>1</th>\n",
       "      <td>1</td>\n",
       "      <td>0</td>\n",
       "      <td>0</td>\n",
       "      <td>0</td>\n",
       "      <td>0</td>\n",
       "      <td>0</td>\n",
       "      <td>0</td>\n",
       "      <td>0</td>\n",
       "      <td>0</td>\n",
       "      <td>1</td>\n",
       "      <td>...</td>\n",
       "      <td>0</td>\n",
       "      <td>0</td>\n",
       "      <td>0</td>\n",
       "      <td>1</td>\n",
       "      <td>0</td>\n",
       "      <td>0</td>\n",
       "      <td>0</td>\n",
       "      <td>0</td>\n",
       "      <td>1</td>\n",
       "      <td>0</td>\n",
       "    </tr>\n",
       "    <tr>\n",
       "      <th>2</th>\n",
       "      <td>1</td>\n",
       "      <td>0</td>\n",
       "      <td>0</td>\n",
       "      <td>0</td>\n",
       "      <td>0</td>\n",
       "      <td>0</td>\n",
       "      <td>0</td>\n",
       "      <td>0</td>\n",
       "      <td>0</td>\n",
       "      <td>0</td>\n",
       "      <td>...</td>\n",
       "      <td>0</td>\n",
       "      <td>0</td>\n",
       "      <td>0</td>\n",
       "      <td>1</td>\n",
       "      <td>0</td>\n",
       "      <td>0</td>\n",
       "      <td>0</td>\n",
       "      <td>0</td>\n",
       "      <td>1</td>\n",
       "      <td>0</td>\n",
       "    </tr>\n",
       "    <tr>\n",
       "      <th>3</th>\n",
       "      <td>1</td>\n",
       "      <td>0</td>\n",
       "      <td>0</td>\n",
       "      <td>0</td>\n",
       "      <td>0</td>\n",
       "      <td>0</td>\n",
       "      <td>0</td>\n",
       "      <td>0</td>\n",
       "      <td>0</td>\n",
       "      <td>0</td>\n",
       "      <td>...</td>\n",
       "      <td>0</td>\n",
       "      <td>0</td>\n",
       "      <td>0</td>\n",
       "      <td>1</td>\n",
       "      <td>0</td>\n",
       "      <td>0</td>\n",
       "      <td>0</td>\n",
       "      <td>0</td>\n",
       "      <td>1</td>\n",
       "      <td>0</td>\n",
       "    </tr>\n",
       "    <tr>\n",
       "      <th>4</th>\n",
       "      <td>1</td>\n",
       "      <td>0</td>\n",
       "      <td>0</td>\n",
       "      <td>0</td>\n",
       "      <td>0</td>\n",
       "      <td>0</td>\n",
       "      <td>0</td>\n",
       "      <td>0</td>\n",
       "      <td>0</td>\n",
       "      <td>0</td>\n",
       "      <td>...</td>\n",
       "      <td>0</td>\n",
       "      <td>0</td>\n",
       "      <td>0</td>\n",
       "      <td>1</td>\n",
       "      <td>0</td>\n",
       "      <td>0</td>\n",
       "      <td>0</td>\n",
       "      <td>0</td>\n",
       "      <td>1</td>\n",
       "      <td>0</td>\n",
       "    </tr>\n",
       "  </tbody>\n",
       "</table>\n",
       "<p>5 rows × 75 columns</p>\n",
       "</div>"
      ],
      "text/plain": [
       "   Case_Status_en  Year_2018  Year_2019  Year_2020  Year_2021  Year_2022  \\\n",
       "0               1          0          0          0          0          0   \n",
       "1               1          0          0          0          0          0   \n",
       "2               1          0          0          0          0          0   \n",
       "3               1          0          0          0          0          0   \n",
       "4               1          0          0          0          0          0   \n",
       "\n",
       "   Work_state_ALASKA  Work_state_ARIZONA  Work_state_ARKANSAS  \\\n",
       "0                  0                   0                    0   \n",
       "1                  0                   0                    0   \n",
       "2                  0                   0                    0   \n",
       "3                  0                   0                    0   \n",
       "4                  0                   0                    0   \n",
       "\n",
       "   Work_state_CALIFORNIA  ...  JOB_ACCEPTANCE_HA  JOB_ACCEPTANCE_LA  \\\n",
       "0                      0  ...                  0                  0   \n",
       "1                      1  ...                  0                  0   \n",
       "2                      0  ...                  0                  0   \n",
       "3                      0  ...                  0                  0   \n",
       "4                      0  ...                  0                  0   \n",
       "\n",
       "   JOB_ACCEPTANCE_MA  JOB_ACCEPTANCE_VHA  JOB_ACCEPTANCE_VLA  \\\n",
       "0                  0                   1                   0   \n",
       "1                  0                   1                   0   \n",
       "2                  0                   1                   0   \n",
       "3                  0                   1                   0   \n",
       "4                  0                   1                   0   \n",
       "\n",
       "   SOC_ACCEPTANCE_HA  SOC_ACCEPTANCE_LA  SOC_ACCEPTANCE_MA  \\\n",
       "0                  0                  0                  0   \n",
       "1                  0                  0                  0   \n",
       "2                  0                  0                  0   \n",
       "3                  0                  0                  0   \n",
       "4                  0                  0                  0   \n",
       "\n",
       "   SOC_ACCEPTANCE_VHA  SOC_ACCEPTANCE_VLA  \n",
       "0                   1                   0  \n",
       "1                   1                   0  \n",
       "2                   1                   0  \n",
       "3                   1                   0  \n",
       "4                   1                   0  \n",
       "\n",
       "[5 rows x 75 columns]"
      ]
     },
     "execution_count": 63,
     "metadata": {},
     "output_type": "execute_result"
    }
   ],
   "source": [
    "final_df_train = pd.get_dummies(df2, columns=['Year', 'Work_state', 'Full_Time_Position_en', 'WAGE_CATEGORY', 'EMPLOYER_ACCEPTANCE', 'JOB_ACCEPTANCE', 'SOC_ACCEPTANCE' ], drop_first=True)\n",
    "final_df_train.head()"
   ]
  },
  {
   "cell_type": "code",
   "execution_count": 64,
   "id": "3b273ee0",
   "metadata": {},
   "outputs": [
    {
     "data": {
      "text/plain": [
       "(2785529, 75)"
      ]
     },
     "execution_count": 64,
     "metadata": {},
     "output_type": "execute_result"
    }
   ],
   "source": [
    "final_df_train.shape"
   ]
  },
  {
   "cell_type": "code",
   "execution_count": 65,
   "id": "93579357",
   "metadata": {},
   "outputs": [],
   "source": [
    "X11 = final_df_train.iloc[:,1:]\n",
    "y11 = final_df_train.iloc[:,0]"
   ]
  },
  {
   "cell_type": "code",
   "execution_count": 1,
   "id": "862b1f7c",
   "metadata": {},
   "outputs": [
    {
     "name": "stdout",
     "output_type": "stream",
     "text": [
      "Requirement already satisfied: imblearn in /opt/anaconda3/lib/python3.9/site-packages (0.0)\n",
      "Requirement already satisfied: imbalanced-learn in /opt/anaconda3/lib/python3.9/site-packages (from imblearn) (0.9.1)\n",
      "Requirement already satisfied: scikit-learn>=1.1.0 in /opt/anaconda3/lib/python3.9/site-packages (from imbalanced-learn->imblearn) (1.1.3)\n",
      "Requirement already satisfied: joblib>=1.0.0 in /opt/anaconda3/lib/python3.9/site-packages (from imbalanced-learn->imblearn) (1.1.0)\n",
      "Requirement already satisfied: numpy>=1.17.3 in /opt/anaconda3/lib/python3.9/site-packages (from imbalanced-learn->imblearn) (1.20.3)\n",
      "Requirement already satisfied: threadpoolctl>=2.0.0 in /opt/anaconda3/lib/python3.9/site-packages (from imbalanced-learn->imblearn) (2.2.0)\n",
      "Requirement already satisfied: scipy>=1.3.2 in /opt/anaconda3/lib/python3.9/site-packages (from imbalanced-learn->imblearn) (1.7.1)\n",
      "Note: you may need to restart the kernel to use updated packages.\n"
     ]
    }
   ],
   "source": [
    "#pip install imblearn"
   ]
  },
  {
   "cell_type": "code",
   "execution_count": 66,
   "id": "8648c02d",
   "metadata": {},
   "outputs": [],
   "source": [
    "import imblearn\n"
   ]
  },
  {
   "cell_type": "code",
   "execution_count": 67,
   "id": "3d84b027",
   "metadata": {},
   "outputs": [],
   "source": [
    "\n",
    "from imblearn.over_sampling import SMOTE\n",
    "from collections import Counter\n",
    "sm = SMOTE(random_state=42)\n",
    "X12,y12 = sm.fit_resample(X11,y11)"
   ]
  },
  {
   "cell_type": "code",
   "execution_count": null,
   "id": "f4b3c961",
   "metadata": {},
   "outputs": [
    {
     "data": {
      "text/plain": [
       "\"from sklearn.linear_model import LogisticRegression\\nfrom sklearn.feature_selection import RFE\\nmodel = LogisticRegression(solver='lbfgs', max_iter=1000)\\nrfe = RFE(model,n_features_to_select =40,step = 1)            # 40 features to select\\nfit = rfe.fit(final_df_train.iloc[:,1:], final_df_train.iloc[:,0])\\nsupport_rfe = rfe.support_\\nlength_cols = list(final_df_train.iloc[:,1:].columns.values)\\nlist_selected = []\\nfor index in range(len(length_cols)):\\n    if support_rfe[index] == True:\\n        list_selected.append(length_cols[index])\\n    else:\\n        pass\\nprint(list_selected)\\nprint(rfe.ranking_)\\n\""
      ]
     },
     "execution_count": 84,
     "metadata": {},
     "output_type": "execute_result"
    }
   ],
   "source": [
    "# RFE for feature elimination\n",
    "#RFE is popular because it is easy to configure and use and because it is effective at selecting those features (columns) in a training dataset that are more or most relevant in predicting the target variable.\n",
    "\n",
    "'''from sklearn.linear_model import LogisticRegression\n",
    "from sklearn.feature_selection import RFE\n",
    "model = LogisticRegression(solver='lbfgs', max_iter=1000)\n",
    "rfe = RFE(model,n_features_to_select =40,step = 1)            # 40 features to select\n",
    "fit = rfe.fit(final_df_train.iloc[:,1:], final_df_train.iloc[:,0])\n",
    "support_rfe = rfe.support_\n",
    "length_cols = list(final_df_train.iloc[:,1:].columns.values)\n",
    "list_selected = []\n",
    "for index in range(len(length_cols)):\n",
    "    if support_rfe[index] == True:\n",
    "        list_selected.append(length_cols[index])\n",
    "    else:\n",
    "        pass\n",
    "print(list_selected)\n",
    "print(rfe.ranking_)\n",
    "'''"
   ]
  },
  {
   "cell_type": "code",
   "execution_count": 68,
   "id": "97cfd86f",
   "metadata": {},
   "outputs": [
    {
     "data": {
      "text/plain": [
       "1    0.5\n",
       "0    0.5\n",
       "Name: Case_Status_en, dtype: float64"
      ]
     },
     "execution_count": 68,
     "metadata": {},
     "output_type": "execute_result"
    }
   ],
   "source": [
    "y12.value_counts(normalize=True)"
   ]
  },
  {
   "cell_type": "code",
   "execution_count": 66,
   "id": "cae9c700",
   "metadata": {},
   "outputs": [],
   "source": [
    "#unique_listcols = [col.split('_')[0] for col in list_selected]\n",
    "#set(unique_listcols)"
   ]
  },
  {
   "cell_type": "code",
   "execution_count": 69,
   "id": "97c25e2a",
   "metadata": {},
   "outputs": [],
   "source": [
    "from sklearn.model_selection import train_test_split\n",
    "X_train, X_test, y_train, y_test = train_test_split(X12, y12, test_size = 0.30, random_state=1)\n",
    "#y_train[y_train==1].shape\n",
    "#y_test[y_test==1].shape"
   ]
  },
  {
   "cell_type": "code",
   "execution_count": 70,
   "id": "80b97cf4",
   "metadata": {},
   "outputs": [
    {
     "data": {
      "text/plain": [
       "(3522180, 74)"
      ]
     },
     "execution_count": 70,
     "metadata": {},
     "output_type": "execute_result"
    }
   ],
   "source": [
    "X_train.shape\n"
   ]
  },
  {
   "cell_type": "code",
   "execution_count": null,
   "id": "9d391936",
   "metadata": {},
   "outputs": [],
   "source": [
    "# Modelling "
   ]
  },
  {
   "cell_type": "code",
   "execution_count": 71,
   "id": "be69a9bb",
   "metadata": {},
   "outputs": [],
   "source": [
    "# Decision Tree Classifier\n",
    "\n",
    "from sklearn.tree import DecisionTreeClassifier\n",
    "dtree = DecisionTreeClassifier()\n",
    "dtree = dtree.fit(X_train, y_train) "
   ]
  },
  {
   "cell_type": "code",
   "execution_count": 72,
   "id": "9a12d887",
   "metadata": {},
   "outputs": [
    {
     "name": "stdout",
     "output_type": "stream",
     "text": [
      "[[551967 203115]\n",
      " [107834 646590]]\n",
      "\n",
      "              precision    recall  f1-score   support\n",
      "\n",
      "           0       0.84      0.73      0.78    755082\n",
      "           1       0.76      0.86      0.81    754424\n",
      "\n",
      "    accuracy                           0.79   1509506\n",
      "   macro avg       0.80      0.79      0.79   1509506\n",
      "weighted avg       0.80      0.79      0.79   1509506\n",
      "\n"
     ]
    }
   ],
   "source": [
    "y_pred = dtree.predict(X_test)\n",
    "print(confusion_matrix(y_test,y_pred))\n",
    "print()\n",
    "print(classification_report(y_test, y_pred))"
   ]
  },
  {
   "cell_type": "code",
   "execution_count": 80,
   "id": "9acbcf42",
   "metadata": {},
   "outputs": [
    {
     "name": "stdout",
     "output_type": "stream",
     "text": [
      "[2.57273376e-02 3.88519868e-03 4.48666482e-03 2.50889816e-03\n",
      " 5.94913587e-03 1.83757174e-04 6.13834439e-04 6.04976890e-04\n",
      " 2.13449053e-03 5.58714154e-04 7.09646510e-04 3.65347515e-04\n",
      " 6.78542144e-04 8.00573249e-04 2.81924023e-04 3.57698773e-04\n",
      " 8.67629791e-04 5.59974965e-04 6.89093878e-04 4.71868382e-04\n",
      " 5.01797735e-04 6.49353251e-04 2.96979037e-04 6.66839683e-04\n",
      " 1.01870656e-03 7.85441919e-04 6.24855605e-04 6.39841181e-04\n",
      " 7.06039640e-04 2.50862083e-04 7.13741512e-04 4.22464115e-04\n",
      " 3.59211652e-04 8.49719580e-04 5.13380807e-04 1.15413763e-03\n",
      " 5.80875674e-04 4.83251188e-04 6.69948061e-04 6.42920739e-04\n",
      " 7.10528644e-04 7.00622181e-04 5.05131821e-04 5.11787524e-04\n",
      " 3.60595135e-04 7.36533778e-04 7.85434895e-04 5.79306997e-04\n",
      " 3.35605850e-04 7.59747720e-04 1.43286893e-03 3.84575234e-04\n",
      " 4.90906144e-04 2.09888973e-04 2.71060818e-03 3.11050993e-03\n",
      " 2.89791894e-03 1.76011987e-03 1.80341965e-03 1.66030954e-02\n",
      " 2.96070665e-04 2.14505027e-03 6.72196839e-01 1.70007503e-05\n",
      " 1.85863946e-02 3.09708392e-04 1.87717145e-03 1.92674068e-01\n",
      " 4.00243276e-05 2.07746705e-03 6.10782364e-05 3.79758190e-04\n",
      " 1.17051091e-03 5.81397725e-03]\n"
     ]
    }
   ],
   "source": [
    "print(dtree.feature_importances_)"
   ]
  },
  {
   "cell_type": "code",
   "execution_count": 73,
   "id": "d41b288f",
   "metadata": {},
   "outputs": [
    {
     "data": {
      "text/html": [
       "<style>#sk-container-id-1 {color: black;background-color: white;}#sk-container-id-1 pre{padding: 0;}#sk-container-id-1 div.sk-toggleable {background-color: white;}#sk-container-id-1 label.sk-toggleable__label {cursor: pointer;display: block;width: 100%;margin-bottom: 0;padding: 0.3em;box-sizing: border-box;text-align: center;}#sk-container-id-1 label.sk-toggleable__label-arrow:before {content: \"▸\";float: left;margin-right: 0.25em;color: #696969;}#sk-container-id-1 label.sk-toggleable__label-arrow:hover:before {color: black;}#sk-container-id-1 div.sk-estimator:hover label.sk-toggleable__label-arrow:before {color: black;}#sk-container-id-1 div.sk-toggleable__content {max-height: 0;max-width: 0;overflow: hidden;text-align: left;background-color: #f0f8ff;}#sk-container-id-1 div.sk-toggleable__content pre {margin: 0.2em;color: black;border-radius: 0.25em;background-color: #f0f8ff;}#sk-container-id-1 input.sk-toggleable__control:checked~div.sk-toggleable__content {max-height: 200px;max-width: 100%;overflow: auto;}#sk-container-id-1 input.sk-toggleable__control:checked~label.sk-toggleable__label-arrow:before {content: \"▾\";}#sk-container-id-1 div.sk-estimator input.sk-toggleable__control:checked~label.sk-toggleable__label {background-color: #d4ebff;}#sk-container-id-1 div.sk-label input.sk-toggleable__control:checked~label.sk-toggleable__label {background-color: #d4ebff;}#sk-container-id-1 input.sk-hidden--visually {border: 0;clip: rect(1px 1px 1px 1px);clip: rect(1px, 1px, 1px, 1px);height: 1px;margin: -1px;overflow: hidden;padding: 0;position: absolute;width: 1px;}#sk-container-id-1 div.sk-estimator {font-family: monospace;background-color: #f0f8ff;border: 1px dotted black;border-radius: 0.25em;box-sizing: border-box;margin-bottom: 0.5em;}#sk-container-id-1 div.sk-estimator:hover {background-color: #d4ebff;}#sk-container-id-1 div.sk-parallel-item::after {content: \"\";width: 100%;border-bottom: 1px solid gray;flex-grow: 1;}#sk-container-id-1 div.sk-label:hover label.sk-toggleable__label {background-color: #d4ebff;}#sk-container-id-1 div.sk-serial::before {content: \"\";position: absolute;border-left: 1px solid gray;box-sizing: border-box;top: 0;bottom: 0;left: 50%;z-index: 0;}#sk-container-id-1 div.sk-serial {display: flex;flex-direction: column;align-items: center;background-color: white;padding-right: 0.2em;padding-left: 0.2em;position: relative;}#sk-container-id-1 div.sk-item {position: relative;z-index: 1;}#sk-container-id-1 div.sk-parallel {display: flex;align-items: stretch;justify-content: center;background-color: white;position: relative;}#sk-container-id-1 div.sk-item::before, #sk-container-id-1 div.sk-parallel-item::before {content: \"\";position: absolute;border-left: 1px solid gray;box-sizing: border-box;top: 0;bottom: 0;left: 50%;z-index: -1;}#sk-container-id-1 div.sk-parallel-item {display: flex;flex-direction: column;z-index: 1;position: relative;background-color: white;}#sk-container-id-1 div.sk-parallel-item:first-child::after {align-self: flex-end;width: 50%;}#sk-container-id-1 div.sk-parallel-item:last-child::after {align-self: flex-start;width: 50%;}#sk-container-id-1 div.sk-parallel-item:only-child::after {width: 0;}#sk-container-id-1 div.sk-dashed-wrapped {border: 1px dashed gray;margin: 0 0.4em 0.5em 0.4em;box-sizing: border-box;padding-bottom: 0.4em;background-color: white;}#sk-container-id-1 div.sk-label label {font-family: monospace;font-weight: bold;display: inline-block;line-height: 1.2em;}#sk-container-id-1 div.sk-label-container {text-align: center;}#sk-container-id-1 div.sk-container {/* jupyter's `normalize.less` sets `[hidden] { display: none; }` but bootstrap.min.css set `[hidden] { display: none !important; }` so we also need the `!important` here to be able to override the default hidden behavior on the sphinx rendered scikit-learn.org. See: https://github.com/scikit-learn/scikit-learn/issues/21755 */display: inline-block !important;position: relative;}#sk-container-id-1 div.sk-text-repr-fallback {display: none;}</style><div id=\"sk-container-id-1\" class=\"sk-top-container\"><div class=\"sk-text-repr-fallback\"><pre>LogisticRegression(max_iter=1000)</pre><b>In a Jupyter environment, please rerun this cell to show the HTML representation or trust the notebook. <br />On GitHub, the HTML representation is unable to render, please try loading this page with nbviewer.org.</b></div><div class=\"sk-container\" hidden><div class=\"sk-item\"><div class=\"sk-estimator sk-toggleable\"><input class=\"sk-toggleable__control sk-hidden--visually\" id=\"sk-estimator-id-1\" type=\"checkbox\" checked><label for=\"sk-estimator-id-1\" class=\"sk-toggleable__label sk-toggleable__label-arrow\">LogisticRegression</label><div class=\"sk-toggleable__content\"><pre>LogisticRegression(max_iter=1000)</pre></div></div></div></div></div>"
      ],
      "text/plain": [
       "LogisticRegression(max_iter=1000)"
      ]
     },
     "execution_count": 73,
     "metadata": {},
     "output_type": "execute_result"
    }
   ],
   "source": [
    "# Logistic Regression \n",
    "from sklearn.linear_model import LogisticRegression\n",
    "lr_clf = LogisticRegression(solver='lbfgs', max_iter=1000)\n",
    "lr_clf.fit(X_train, y_train) "
   ]
  },
  {
   "cell_type": "code",
   "execution_count": 74,
   "id": "609aa632",
   "metadata": {},
   "outputs": [
    {
     "name": "stdout",
     "output_type": "stream",
     "text": [
      "[[516253 238829]\n",
      " [120758 633666]]\n",
      "\n",
      "              precision    recall  f1-score   support\n",
      "\n",
      "           0       0.81      0.68      0.74    755082\n",
      "           1       0.73      0.84      0.78    754424\n",
      "\n",
      "    accuracy                           0.76   1509506\n",
      "   macro avg       0.77      0.76      0.76   1509506\n",
      "weighted avg       0.77      0.76      0.76   1509506\n",
      "\n"
     ]
    }
   ],
   "source": [
    "y_pred_lr = lr_clf.predict(X_test)\n",
    "print(confusion_matrix(y_test,y_pred_lr))\n",
    "print()\n",
    "print(classification_report(y_test, y_pred_lr))"
   ]
  },
  {
   "cell_type": "code",
   "execution_count": 75,
   "id": "0bc8ba53",
   "metadata": {},
   "outputs": [],
   "source": [
    "# Save the model as serialized object pickle\n",
    "import pickle\n",
    "# Save the model as serialized object pickle\n",
    "pickle.dump(lr_clf, open('/Users/priyarao/Desktop/Test/lr_clf.pkl', 'wb'))"
   ]
  },
  {
   "cell_type": "code",
   "execution_count": 82,
   "id": "58b135eb",
   "metadata": {},
   "outputs": [
    {
     "data": {
      "text/plain": [
       "'/Users/priyarao/Downloads'"
      ]
     },
     "execution_count": 82,
     "metadata": {},
     "output_type": "execute_result"
    }
   ],
   "source": [
    "import os\n",
    "os.getcwd()"
   ]
  },
  {
   "cell_type": "code",
   "execution_count": 73,
   "id": "c58b5dd8",
   "metadata": {},
   "outputs": [
    {
     "data": {
      "text/html": [
       "<style>#sk-container-id-2 {color: black;background-color: white;}#sk-container-id-2 pre{padding: 0;}#sk-container-id-2 div.sk-toggleable {background-color: white;}#sk-container-id-2 label.sk-toggleable__label {cursor: pointer;display: block;width: 100%;margin-bottom: 0;padding: 0.3em;box-sizing: border-box;text-align: center;}#sk-container-id-2 label.sk-toggleable__label-arrow:before {content: \"▸\";float: left;margin-right: 0.25em;color: #696969;}#sk-container-id-2 label.sk-toggleable__label-arrow:hover:before {color: black;}#sk-container-id-2 div.sk-estimator:hover label.sk-toggleable__label-arrow:before {color: black;}#sk-container-id-2 div.sk-toggleable__content {max-height: 0;max-width: 0;overflow: hidden;text-align: left;background-color: #f0f8ff;}#sk-container-id-2 div.sk-toggleable__content pre {margin: 0.2em;color: black;border-radius: 0.25em;background-color: #f0f8ff;}#sk-container-id-2 input.sk-toggleable__control:checked~div.sk-toggleable__content {max-height: 200px;max-width: 100%;overflow: auto;}#sk-container-id-2 input.sk-toggleable__control:checked~label.sk-toggleable__label-arrow:before {content: \"▾\";}#sk-container-id-2 div.sk-estimator input.sk-toggleable__control:checked~label.sk-toggleable__label {background-color: #d4ebff;}#sk-container-id-2 div.sk-label input.sk-toggleable__control:checked~label.sk-toggleable__label {background-color: #d4ebff;}#sk-container-id-2 input.sk-hidden--visually {border: 0;clip: rect(1px 1px 1px 1px);clip: rect(1px, 1px, 1px, 1px);height: 1px;margin: -1px;overflow: hidden;padding: 0;position: absolute;width: 1px;}#sk-container-id-2 div.sk-estimator {font-family: monospace;background-color: #f0f8ff;border: 1px dotted black;border-radius: 0.25em;box-sizing: border-box;margin-bottom: 0.5em;}#sk-container-id-2 div.sk-estimator:hover {background-color: #d4ebff;}#sk-container-id-2 div.sk-parallel-item::after {content: \"\";width: 100%;border-bottom: 1px solid gray;flex-grow: 1;}#sk-container-id-2 div.sk-label:hover label.sk-toggleable__label {background-color: #d4ebff;}#sk-container-id-2 div.sk-serial::before {content: \"\";position: absolute;border-left: 1px solid gray;box-sizing: border-box;top: 0;bottom: 0;left: 50%;z-index: 0;}#sk-container-id-2 div.sk-serial {display: flex;flex-direction: column;align-items: center;background-color: white;padding-right: 0.2em;padding-left: 0.2em;position: relative;}#sk-container-id-2 div.sk-item {position: relative;z-index: 1;}#sk-container-id-2 div.sk-parallel {display: flex;align-items: stretch;justify-content: center;background-color: white;position: relative;}#sk-container-id-2 div.sk-item::before, #sk-container-id-2 div.sk-parallel-item::before {content: \"\";position: absolute;border-left: 1px solid gray;box-sizing: border-box;top: 0;bottom: 0;left: 50%;z-index: -1;}#sk-container-id-2 div.sk-parallel-item {display: flex;flex-direction: column;z-index: 1;position: relative;background-color: white;}#sk-container-id-2 div.sk-parallel-item:first-child::after {align-self: flex-end;width: 50%;}#sk-container-id-2 div.sk-parallel-item:last-child::after {align-self: flex-start;width: 50%;}#sk-container-id-2 div.sk-parallel-item:only-child::after {width: 0;}#sk-container-id-2 div.sk-dashed-wrapped {border: 1px dashed gray;margin: 0 0.4em 0.5em 0.4em;box-sizing: border-box;padding-bottom: 0.4em;background-color: white;}#sk-container-id-2 div.sk-label label {font-family: monospace;font-weight: bold;display: inline-block;line-height: 1.2em;}#sk-container-id-2 div.sk-label-container {text-align: center;}#sk-container-id-2 div.sk-container {/* jupyter's `normalize.less` sets `[hidden] { display: none; }` but bootstrap.min.css set `[hidden] { display: none !important; }` so we also need the `!important` here to be able to override the default hidden behavior on the sphinx rendered scikit-learn.org. See: https://github.com/scikit-learn/scikit-learn/issues/21755 */display: inline-block !important;position: relative;}#sk-container-id-2 div.sk-text-repr-fallback {display: none;}</style><div id=\"sk-container-id-2\" class=\"sk-top-container\"><div class=\"sk-text-repr-fallback\"><pre>RandomForestClassifier(n_estimators=75, random_state=50)</pre><b>In a Jupyter environment, please rerun this cell to show the HTML representation or trust the notebook. <br />On GitHub, the HTML representation is unable to render, please try loading this page with nbviewer.org.</b></div><div class=\"sk-container\" hidden><div class=\"sk-item\"><div class=\"sk-estimator sk-toggleable\"><input class=\"sk-toggleable__control sk-hidden--visually\" id=\"sk-estimator-id-2\" type=\"checkbox\" checked><label for=\"sk-estimator-id-2\" class=\"sk-toggleable__label sk-toggleable__label-arrow\">RandomForestClassifier</label><div class=\"sk-toggleable__content\"><pre>RandomForestClassifier(n_estimators=75, random_state=50)</pre></div></div></div></div></div>"
      ],
      "text/plain": [
       "RandomForestClassifier(n_estimators=75, random_state=50)"
      ]
     },
     "execution_count": 73,
     "metadata": {},
     "output_type": "execute_result"
    }
   ],
   "source": [
    "# Random Forest Classifier\n",
    "from sklearn.ensemble import RandomForestClassifier\n",
    "rf = RandomForestClassifier(n_estimators = 75, random_state = 50)\n",
    "# Train the model on training data\n",
    "rf.fit(X_train, y_train)"
   ]
  },
  {
   "cell_type": "code",
   "execution_count": 73,
   "id": "e38e3c5b",
   "metadata": {},
   "outputs": [
    {
     "name": "stdout",
     "output_type": "stream",
     "text": [
      "[[551787 203295]\n",
      " [107769 646655]]\n",
      "\n",
      "              precision    recall  f1-score   support\n",
      "\n",
      "           0       0.84      0.73      0.78    755082\n",
      "           1       0.76      0.86      0.81    754424\n",
      "\n",
      "    accuracy                           0.79   1509506\n",
      "   macro avg       0.80      0.79      0.79   1509506\n",
      "weighted avg       0.80      0.79      0.79   1509506\n",
      "\n"
     ]
    }
   ],
   "source": [
    "y_pred_rf = rf.predict(X_test)\n",
    "print(confusion_matrix(y_test,y_pred_rf))\n",
    "print()\n",
    "print(classification_report(y_test, y_pred_rf))"
   ]
  },
  {
   "cell_type": "code",
   "execution_count": 83,
   "id": "92163bb3",
   "metadata": {},
   "outputs": [],
   "source": [
    "from sklearn.neural_network import MLPClassifier\n",
    "mlp = MLPClassifier(hidden_layer_sizes=(20,20,20,20,20), max_iter=1000)\n",
    "mlp.fit(X_train, y_train)"
   ]
  },
  {
   "cell_type": "code",
   "execution_count": 81,
   "id": "7eac72b1",
   "metadata": {},
   "outputs": [
    {
     "ename": "NameError",
     "evalue": "name 'mlp' is not defined",
     "output_type": "error",
     "traceback": [
      "\u001b[0;31m---------------------------------------------------------------------------\u001b[0m",
      "\u001b[0;31mNameError\u001b[0m                                 Traceback (most recent call last)",
      "\u001b[0;32m/var/folders/dm/sjqvslj54b7byv7p__86dgcw0000gn/T/ipykernel_38005/1357146891.py\u001b[0m in \u001b[0;36m<module>\u001b[0;34m\u001b[0m\n\u001b[0;32m----> 1\u001b[0;31m \u001b[0my_pred_mlp\u001b[0m \u001b[0;34m=\u001b[0m \u001b[0mmlp\u001b[0m\u001b[0;34m.\u001b[0m\u001b[0mpredict\u001b[0m\u001b[0;34m(\u001b[0m\u001b[0mX_test\u001b[0m\u001b[0;34m)\u001b[0m\u001b[0;34m\u001b[0m\u001b[0;34m\u001b[0m\u001b[0m\n\u001b[0m\u001b[1;32m      2\u001b[0m \u001b[0mprint\u001b[0m\u001b[0;34m(\u001b[0m\u001b[0mconfusion_matrix\u001b[0m\u001b[0;34m(\u001b[0m\u001b[0my_test\u001b[0m\u001b[0;34m,\u001b[0m\u001b[0my_pred_mlp\u001b[0m\u001b[0;34m)\u001b[0m\u001b[0;34m)\u001b[0m\u001b[0;34m\u001b[0m\u001b[0;34m\u001b[0m\u001b[0m\n\u001b[1;32m      3\u001b[0m \u001b[0mprint\u001b[0m\u001b[0;34m(\u001b[0m\u001b[0;34m)\u001b[0m\u001b[0;34m\u001b[0m\u001b[0;34m\u001b[0m\u001b[0m\n\u001b[1;32m      4\u001b[0m \u001b[0mprint\u001b[0m\u001b[0;34m(\u001b[0m\u001b[0mclassification_report\u001b[0m\u001b[0;34m(\u001b[0m\u001b[0my_test\u001b[0m\u001b[0;34m,\u001b[0m \u001b[0my_pred_mlp\u001b[0m\u001b[0;34m)\u001b[0m\u001b[0;34m)\u001b[0m\u001b[0;34m\u001b[0m\u001b[0;34m\u001b[0m\u001b[0m\n",
      "\u001b[0;31mNameError\u001b[0m: name 'mlp' is not defined"
     ]
    }
   ],
   "source": [
    "y_pred_mlp = mlp.predict(X_test)\n",
    "print(confusion_matrix(y_test,y_pred_mlp))\n",
    "print()\n",
    "print(classification_report(y_test, y_pred_mlp))"
   ]
  },
  {
   "cell_type": "code",
   "execution_count": null,
   "id": "e5697d14",
   "metadata": {},
   "outputs": [
    {
     "data": {
      "text/plain": [
       "KNeighborsClassifier()"
      ]
     },
     "execution_count": 132,
     "metadata": {},
     "output_type": "execute_result"
    }
   ],
   "source": [
    "from sklearn.neighbors import KNeighborsClassifier\n",
    "Knc = KNeighborsClassifier()\n",
    "Knc.fit(X_train, y_train)"
   ]
  },
  {
   "cell_type": "code",
   "execution_count": null,
   "id": "ee1a6aee",
   "metadata": {},
   "outputs": [
    {
     "name": "stderr",
     "output_type": "stream",
     "text": [
      "/Users/pratikkhedekar/opt/anaconda3/lib/python3.9/site-packages/sklearn/svm/_base.py:1206: ConvergenceWarning: Liblinear failed to converge, increase the number of iterations.\n",
      "  warnings.warn(\n"
     ]
    },
    {
     "data": {
      "text/plain": [
       "LinearSVC()"
      ]
     },
     "execution_count": 133,
     "metadata": {},
     "output_type": "execute_result"
    }
   ],
   "source": [
    "from sklearn.svm import LinearSVC\n",
    "svc = LinearSVC()\n",
    "svc.fit(X_train, y_train)"
   ]
  },
  {
   "cell_type": "code",
   "execution_count": null,
   "id": "a8bfe60c",
   "metadata": {},
   "outputs": [
    {
     "name": "stdout",
     "output_type": "stream",
     "text": [
      "[[495031 260051]\n",
      " [103502 650922]]\n",
      "\n",
      "              precision    recall  f1-score   support\n",
      "\n",
      "           0       0.83      0.66      0.73    755082\n",
      "           1       0.71      0.86      0.78    754424\n",
      "\n",
      "    accuracy                           0.76   1509506\n",
      "   macro avg       0.77      0.76      0.76   1509506\n",
      "weighted avg       0.77      0.76      0.76   1509506\n",
      "\n"
     ]
    }
   ],
   "source": [
    "y_pred_svc = svc.predict(X_test)\n",
    "print(confusion_matrix(y_test,y_pred_svc))\n",
    "print()\n",
    "print(classification_report(y_test, y_pred_svc))"
   ]
  },
  {
   "cell_type": "markdown",
   "id": "d1c15f3a",
   "metadata": {},
   "source": [
    "### Hyper-parameter tuning\n"
   ]
  },
  {
   "cell_type": "code",
   "execution_count": null,
   "id": "92ccfbeb",
   "metadata": {},
   "outputs": [
    {
     "data": {
      "text/html": [
       "<div>\n",
       "<style scoped>\n",
       "    .dataframe tbody tr th:only-of-type {\n",
       "        vertical-align: middle;\n",
       "    }\n",
       "\n",
       "    .dataframe tbody tr th {\n",
       "        vertical-align: top;\n",
       "    }\n",
       "\n",
       "    .dataframe thead th {\n",
       "        text-align: right;\n",
       "    }\n",
       "</style>\n",
       "<table border=\"1\" class=\"dataframe\">\n",
       "  <thead>\n",
       "    <tr style=\"text-align: right;\">\n",
       "      <th></th>\n",
       "      <th>Case_Status_en</th>\n",
       "      <th>Year_2018</th>\n",
       "      <th>Year_2019</th>\n",
       "      <th>Year_2020</th>\n",
       "      <th>Year_2021</th>\n",
       "      <th>Year_2022</th>\n",
       "      <th>Work_state_ALASKA</th>\n",
       "      <th>Work_state_ARIZONA</th>\n",
       "      <th>Work_state_ARKANSAS</th>\n",
       "      <th>Work_state_CALIFORNIA</th>\n",
       "      <th>...</th>\n",
       "      <th>JOB_ACCEPTANCE_HA</th>\n",
       "      <th>JOB_ACCEPTANCE_LA</th>\n",
       "      <th>JOB_ACCEPTANCE_MA</th>\n",
       "      <th>JOB_ACCEPTANCE_VHA</th>\n",
       "      <th>JOB_ACCEPTANCE_VLA</th>\n",
       "      <th>SOC_ACCEPTANCE_HA</th>\n",
       "      <th>SOC_ACCEPTANCE_LA</th>\n",
       "      <th>SOC_ACCEPTANCE_MA</th>\n",
       "      <th>SOC_ACCEPTANCE_VHA</th>\n",
       "      <th>SOC_ACCEPTANCE_VLA</th>\n",
       "    </tr>\n",
       "  </thead>\n",
       "  <tbody>\n",
       "    <tr>\n",
       "      <th>0</th>\n",
       "      <td>1</td>\n",
       "      <td>0</td>\n",
       "      <td>0</td>\n",
       "      <td>0</td>\n",
       "      <td>0</td>\n",
       "      <td>0</td>\n",
       "      <td>0</td>\n",
       "      <td>0</td>\n",
       "      <td>0</td>\n",
       "      <td>0</td>\n",
       "      <td>...</td>\n",
       "      <td>0</td>\n",
       "      <td>0</td>\n",
       "      <td>0</td>\n",
       "      <td>1</td>\n",
       "      <td>0</td>\n",
       "      <td>0</td>\n",
       "      <td>0</td>\n",
       "      <td>0</td>\n",
       "      <td>1</td>\n",
       "      <td>0</td>\n",
       "    </tr>\n",
       "    <tr>\n",
       "      <th>1</th>\n",
       "      <td>1</td>\n",
       "      <td>0</td>\n",
       "      <td>0</td>\n",
       "      <td>0</td>\n",
       "      <td>0</td>\n",
       "      <td>0</td>\n",
       "      <td>0</td>\n",
       "      <td>0</td>\n",
       "      <td>0</td>\n",
       "      <td>1</td>\n",
       "      <td>...</td>\n",
       "      <td>0</td>\n",
       "      <td>0</td>\n",
       "      <td>0</td>\n",
       "      <td>1</td>\n",
       "      <td>0</td>\n",
       "      <td>0</td>\n",
       "      <td>0</td>\n",
       "      <td>0</td>\n",
       "      <td>1</td>\n",
       "      <td>0</td>\n",
       "    </tr>\n",
       "    <tr>\n",
       "      <th>2</th>\n",
       "      <td>1</td>\n",
       "      <td>0</td>\n",
       "      <td>0</td>\n",
       "      <td>0</td>\n",
       "      <td>0</td>\n",
       "      <td>0</td>\n",
       "      <td>0</td>\n",
       "      <td>0</td>\n",
       "      <td>0</td>\n",
       "      <td>0</td>\n",
       "      <td>...</td>\n",
       "      <td>0</td>\n",
       "      <td>0</td>\n",
       "      <td>0</td>\n",
       "      <td>1</td>\n",
       "      <td>0</td>\n",
       "      <td>0</td>\n",
       "      <td>0</td>\n",
       "      <td>0</td>\n",
       "      <td>1</td>\n",
       "      <td>0</td>\n",
       "    </tr>\n",
       "    <tr>\n",
       "      <th>3</th>\n",
       "      <td>1</td>\n",
       "      <td>0</td>\n",
       "      <td>0</td>\n",
       "      <td>0</td>\n",
       "      <td>0</td>\n",
       "      <td>0</td>\n",
       "      <td>0</td>\n",
       "      <td>0</td>\n",
       "      <td>0</td>\n",
       "      <td>0</td>\n",
       "      <td>...</td>\n",
       "      <td>0</td>\n",
       "      <td>0</td>\n",
       "      <td>0</td>\n",
       "      <td>1</td>\n",
       "      <td>0</td>\n",
       "      <td>0</td>\n",
       "      <td>0</td>\n",
       "      <td>0</td>\n",
       "      <td>1</td>\n",
       "      <td>0</td>\n",
       "    </tr>\n",
       "    <tr>\n",
       "      <th>4</th>\n",
       "      <td>1</td>\n",
       "      <td>0</td>\n",
       "      <td>0</td>\n",
       "      <td>0</td>\n",
       "      <td>0</td>\n",
       "      <td>0</td>\n",
       "      <td>0</td>\n",
       "      <td>0</td>\n",
       "      <td>0</td>\n",
       "      <td>0</td>\n",
       "      <td>...</td>\n",
       "      <td>0</td>\n",
       "      <td>0</td>\n",
       "      <td>0</td>\n",
       "      <td>1</td>\n",
       "      <td>0</td>\n",
       "      <td>0</td>\n",
       "      <td>0</td>\n",
       "      <td>0</td>\n",
       "      <td>1</td>\n",
       "      <td>0</td>\n",
       "    </tr>\n",
       "  </tbody>\n",
       "</table>\n",
       "<p>5 rows × 75 columns</p>\n",
       "</div>"
      ],
      "text/plain": [
       "   Case_Status_en  Year_2018  Year_2019  Year_2020  Year_2021  Year_2022  \\\n",
       "0               1          0          0          0          0          0   \n",
       "1               1          0          0          0          0          0   \n",
       "2               1          0          0          0          0          0   \n",
       "3               1          0          0          0          0          0   \n",
       "4               1          0          0          0          0          0   \n",
       "\n",
       "   Work_state_ALASKA  Work_state_ARIZONA  Work_state_ARKANSAS  \\\n",
       "0                  0                   0                    0   \n",
       "1                  0                   0                    0   \n",
       "2                  0                   0                    0   \n",
       "3                  0                   0                    0   \n",
       "4                  0                   0                    0   \n",
       "\n",
       "   Work_state_CALIFORNIA  ...  JOB_ACCEPTANCE_HA  JOB_ACCEPTANCE_LA  \\\n",
       "0                      0  ...                  0                  0   \n",
       "1                      1  ...                  0                  0   \n",
       "2                      0  ...                  0                  0   \n",
       "3                      0  ...                  0                  0   \n",
       "4                      0  ...                  0                  0   \n",
       "\n",
       "   JOB_ACCEPTANCE_MA  JOB_ACCEPTANCE_VHA  JOB_ACCEPTANCE_VLA  \\\n",
       "0                  0                   1                   0   \n",
       "1                  0                   1                   0   \n",
       "2                  0                   1                   0   \n",
       "3                  0                   1                   0   \n",
       "4                  0                   1                   0   \n",
       "\n",
       "   SOC_ACCEPTANCE_HA  SOC_ACCEPTANCE_LA  SOC_ACCEPTANCE_MA  \\\n",
       "0                  0                  0                  0   \n",
       "1                  0                  0                  0   \n",
       "2                  0                  0                  0   \n",
       "3                  0                  0                  0   \n",
       "4                  0                  0                  0   \n",
       "\n",
       "   SOC_ACCEPTANCE_VHA  SOC_ACCEPTANCE_VLA  \n",
       "0                   1                   0  \n",
       "1                   1                   0  \n",
       "2                   1                   0  \n",
       "3                   1                   0  \n",
       "4                   1                   0  \n",
       "\n",
       "[5 rows x 75 columns]"
      ]
     },
     "execution_count": 135,
     "metadata": {},
     "output_type": "execute_result"
    }
   ],
   "source": [
    "final_df_train.head()"
   ]
  },
  {
   "cell_type": "code",
   "execution_count": null,
   "id": "780f49e6",
   "metadata": {},
   "outputs": [],
   "source": [
    "# Dropping Covid Years\n",
    "#dfhyper1 = final_df_train.drop(columns=['Year_2020','Year_2021'])"
   ]
  },
  {
   "cell_type": "code",
   "execution_count": null,
   "id": "7428d4a5",
   "metadata": {},
   "outputs": [],
   "source": [
    "#X_train, X_test, y_train, y_test = train_test_split(dfhyper1.iloc[:,1:], dfhyper1.iloc[:, 0], test_size = 0.20, random_state=1)\n"
   ]
  },
  {
   "cell_type": "code",
   "execution_count": null,
   "id": "32550c84",
   "metadata": {},
   "outputs": [
    {
     "name": "stdout",
     "output_type": "stream",
     "text": [
      "[[ 30653  23269]\n",
      " [  9202 166923]]\n",
      "\n",
      "              precision    recall  f1-score   support\n",
      "\n",
      "           0       0.77      0.57      0.65     53922\n",
      "           1       0.88      0.95      0.91    176125\n",
      "\n",
      "    accuracy                           0.86    230047\n",
      "   macro avg       0.82      0.76      0.78    230047\n",
      "weighted avg       0.85      0.86      0.85    230047\n",
      "\n"
     ]
    }
   ],
   "source": [
    "# Decision Tree Classifier with No Covid Years\n",
    "\n",
    "from sklearn.tree import DecisionTreeClassifier\n",
    "dtree = DecisionTreeClassifier()\n",
    "dtree = dtree.fit(X_train, y_train) \n",
    "y_pred = dtree.predict(X_test)\n",
    "print(confusion_matrix(y_test,y_pred))\n",
    "print()\n",
    "print(classification_report(y_test, y_pred))"
   ]
  },
  {
   "cell_type": "code",
   "execution_count": null,
   "id": "0f9c890e",
   "metadata": {},
   "outputs": [
    {
     "name": "stdout",
     "output_type": "stream",
     "text": [
      "[[ 29809  24113]\n",
      " [  8457 167668]]\n",
      "\n",
      "              precision    recall  f1-score   support\n",
      "\n",
      "           0       0.78      0.55      0.65     53922\n",
      "           1       0.87      0.95      0.91    176125\n",
      "\n",
      "    accuracy                           0.86    230047\n",
      "   macro avg       0.83      0.75      0.78    230047\n",
      "weighted avg       0.85      0.86      0.85    230047\n",
      "\n"
     ]
    }
   ],
   "source": [
    "# Logistic Regression with No covid Years\n",
    "from sklearn.linear_model import LogisticRegression\n",
    "lr_clf = LogisticRegression(solver='lbfgs', max_iter=1000)\n",
    "lr_clf.fit(X_train, y_train) \n",
    "y_pred_lr = lr_clf.predict(X_test)\n",
    "print(confusion_matrix(y_test,y_pred_lr))\n",
    "print()\n",
    "print(classification_report(y_test, y_pred_lr))"
   ]
  },
  {
   "cell_type": "code",
   "execution_count": null,
   "id": "096c2e05",
   "metadata": {},
   "outputs": [
    {
     "name": "stdout",
     "output_type": "stream",
     "text": [
      "[[ 30373  23549]\n",
      " [  8873 167252]]\n",
      "\n",
      "              precision    recall  f1-score   support\n",
      "\n",
      "           0       0.77      0.56      0.65     53922\n",
      "           1       0.88      0.95      0.91    176125\n",
      "\n",
      "    accuracy                           0.86    230047\n",
      "   macro avg       0.83      0.76      0.78    230047\n",
      "weighted avg       0.85      0.86      0.85    230047\n",
      "\n"
     ]
    }
   ],
   "source": [
    "# Random Forest Classifier\n",
    "from sklearn.ensemble import RandomForestClassifier\n",
    "rf = RandomForestClassifier(n_estimators = 75, random_state = 50)\n",
    "rf.fit(X_train, y_train)\n",
    "y_pred_rf = rf.predict(X_test)\n",
    "print(confusion_matrix(y_test,y_pred_rf))\n",
    "print()\n",
    "print(classification_report(y_test, y_pred_rf))"
   ]
  },
  {
   "cell_type": "code",
   "execution_count": null,
   "id": "4f8286f9",
   "metadata": {},
   "outputs": [],
   "source": [
    "# Grid Search CV on Decision Tree\n",
    "from sklearn.model_selection import GridSearchCV\n",
    "\n",
    "def dtree_grid_search(X,y,nfolds):\n",
    "    #create a dictionary of all values we want to test\n",
    "    param_grid = { 'criterion':['gini','entropy'],'max_depth': np.arange(3, 15)}\n",
    "    # decision tree model\n",
    "    dtree_model=DecisionTreeClassifier()\n",
    "    #use gridsearch to test all values\n",
    "    dtree_gscv = GridSearchCV(dtree_model, param_grid, cv=nfolds)\n",
    "    #fit model to data\n",
    "    dtree_gscv.fit(X, y)\n",
    "    return dtree_gscv.best_params_\n",
    "\n"
   ]
  },
  {
   "cell_type": "code",
   "execution_count": null,
   "id": "744f66a7",
   "metadata": {},
   "outputs": [
    {
     "data": {
      "text/plain": [
       "{'criterion': 'gini', 'max_depth': 14}"
      ]
     },
     "execution_count": 289,
     "metadata": {},
     "output_type": "execute_result"
    }
   ],
   "source": [
    "dtree_grid_search(X_train,y_train,5)"
   ]
  },
  {
   "cell_type": "code",
   "execution_count": null,
   "id": "240b98f2",
   "metadata": {},
   "outputs": [
    {
     "name": "stdout",
     "output_type": "stream",
     "text": [
      "[[551746 203336]\n",
      " [111135 643289]]\n",
      "\n",
      "              precision    recall  f1-score   support\n",
      "\n",
      "           0       0.83      0.73      0.78    755082\n",
      "           1       0.76      0.85      0.80    754424\n",
      "\n",
      "    accuracy                           0.79   1509506\n",
      "   macro avg       0.80      0.79      0.79   1509506\n",
      "weighted avg       0.80      0.79      0.79   1509506\n",
      "\n"
     ]
    }
   ],
   "source": [
    "\n",
    "dtree = DecisionTreeClassifier(criterion= 'gini', max_depth= 14)\n",
    "dtree = dtree.fit(X_train, y_train) \n",
    "y_pred = dtree.predict(X_test)\n",
    "print(confusion_matrix(y_test,y_pred))\n",
    "print()\n",
    "print(classification_report(y_test, y_pred))"
   ]
  },
  {
   "cell_type": "code",
   "execution_count": null,
   "id": "6b92e74f",
   "metadata": {},
   "outputs": [
    {
     "data": {
      "text/plain": [
       "1    0.765538\n",
       "0    0.234462\n",
       "Name: Case_Status_en, dtype: float64"
      ]
     },
     "execution_count": 103,
     "metadata": {},
     "output_type": "execute_result"
    }
   ],
   "source": [
    "final_df_train['Case_Status_en'].value_counts(normalize=True)"
   ]
  },
  {
   "cell_type": "code",
   "execution_count": null,
   "id": "e6cf5167",
   "metadata": {},
   "outputs": [],
   "source": [
    "#SMORT Analysis\n",
    "dfsmort = final_df_train.copy()"
   ]
  },
  {
   "cell_type": "code",
   "execution_count": null,
   "id": "07744ac9",
   "metadata": {},
   "outputs": [],
   "source": [
    "X = dfsmort.iloc[:,1:]\n",
    "y = dfsmort.iloc[:,0]\n"
   ]
  },
  {
   "cell_type": "code",
   "execution_count": null,
   "id": "095c719c",
   "metadata": {},
   "outputs": [
    {
     "data": {
      "text/plain": [
       "1     1\n",
       "11    1\n",
       "17    1\n",
       "18    0\n",
       "21    1\n",
       "Name: Case_Status_en, dtype: int64"
      ]
     },
     "execution_count": 108,
     "metadata": {},
     "output_type": "execute_result"
    }
   ],
   "source": []
  },
  {
   "cell_type": "code",
   "execution_count": null,
   "id": "510e65b5",
   "metadata": {},
   "outputs": [],
   "source": [
    "from imblearn.over_sampling import SMOTE\n",
    "from collections import Counter\n",
    "sm = SMOTE(random_state=42)\n",
    "X1,y1 = sm.fit_resample(X,y)"
   ]
  },
  {
   "cell_type": "code",
   "execution_count": null,
   "id": "65e295f8",
   "metadata": {},
   "outputs": [],
   "source": [
    "X_train, X_test, y_train, y_test = train_test_split(X1, y1, test_size = 0.30, random_state=1)\n"
   ]
  },
  {
   "cell_type": "code",
   "execution_count": null,
   "id": "2e3679cb",
   "metadata": {},
   "outputs": [
    {
     "name": "stdout",
     "output_type": "stream",
     "text": [
      "[[220822  43212]\n",
      " [ 50535 213758]]\n",
      "\n",
      "              precision    recall  f1-score   support\n",
      "\n",
      "           0       0.81      0.84      0.82    264034\n",
      "           1       0.83      0.81      0.82    264293\n",
      "\n",
      "    accuracy                           0.82    528327\n",
      "   macro avg       0.82      0.82      0.82    528327\n",
      "weighted avg       0.82      0.82      0.82    528327\n",
      "\n"
     ]
    }
   ],
   "source": [
    "dtree = DecisionTreeClassifier()\n",
    "dtree = dtree.fit(X_train, y_train) \n",
    "y_pred = dtree.predict(X_test)\n",
    "print(confusion_matrix(y_test,y_pred))\n",
    "print()\n",
    "print(classification_report(y_test, y_pred))"
   ]
  }
 ],
 "metadata": {
  "kernelspec": {
   "display_name": "Python 3.9.7 ('base')",
   "language": "python",
   "name": "python3"
  },
  "language_info": {
   "codemirror_mode": {
    "name": "ipython",
    "version": 3
   },
   "file_extension": ".py",
   "mimetype": "text/x-python",
   "name": "python",
   "nbconvert_exporter": "python",
   "pygments_lexer": "ipython3",
   "version": "3.9.7"
  },
  "vscode": {
   "interpreter": {
    "hash": "40d3a090f54c6569ab1632332b64b2c03c39dcf918b08424e98f38b5ae0af88f"
   }
  }
 },
 "nbformat": 4,
 "nbformat_minor": 5
}
